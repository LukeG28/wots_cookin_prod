{
 "cells": [
  {
   "cell_type": "code",
   "execution_count": 1,
   "id": "7ea47d37",
   "metadata": {},
   "outputs": [],
   "source": [
    "import os, sys\n",
    "%load_ext autoreload\n",
    "%autoreload 2"
   ]
  },
  {
   "cell_type": "code",
   "execution_count": 2,
   "id": "a1ada0dc",
   "metadata": {},
   "outputs": [],
   "source": [
    "parent_path = os.path.split(os.getcwd())[0]\n",
    "if parent_path  not in sys.path:\n",
    "    sys.path.append(parent_path)"
   ]
  },
  {
   "cell_type": "code",
   "execution_count": 3,
   "id": "c18b1170",
   "metadata": {},
   "outputs": [],
   "source": [
    "from wots_cookin.trainer import *\n",
    "import pandas as pd"
   ]
  },
  {
   "cell_type": "code",
   "execution_count": 4,
   "id": "86bce7db",
   "metadata": {},
   "outputs": [],
   "source": [
    "recipes_df = pd.read_csv(\"clean_data.csv\")"
   ]
  },
  {
   "cell_type": "code",
   "execution_count": 28,
   "id": "487304e9",
   "metadata": {},
   "outputs": [
    {
     "data": {
      "text/html": [
       "<div>\n",
       "<style scoped>\n",
       "    .dataframe tbody tr th:only-of-type {\n",
       "        vertical-align: middle;\n",
       "    }\n",
       "\n",
       "    .dataframe tbody tr th {\n",
       "        vertical-align: top;\n",
       "    }\n",
       "\n",
       "    .dataframe thead th {\n",
       "        text-align: right;\n",
       "    }\n",
       "</style>\n",
       "<table border=\"1\" class=\"dataframe\">\n",
       "  <thead>\n",
       "    <tr style=\"text-align: right;\">\n",
       "      <th></th>\n",
       "      <th>Unnamed: 0</th>\n",
       "      <th>Title</th>\n",
       "      <th>Ingredients</th>\n",
       "      <th>Instructions</th>\n",
       "      <th>Image_Name</th>\n",
       "      <th>Cleaned_Ingredients</th>\n",
       "      <th>Bag_Of_Ingredients</th>\n",
       "      <th>Clean_bag</th>\n",
       "    </tr>\n",
       "  </thead>\n",
       "  <tbody>\n",
       "    <tr>\n",
       "      <th>0</th>\n",
       "      <td>0</td>\n",
       "      <td>Miso-Butter Roast Chicken With Acorn Squash Pa...</td>\n",
       "      <td>['1 (3½–4-lb.) whole chicken', '2¾ tsp. kosher...</td>\n",
       "      <td>Pat chicken dry with paper towels, season all ...</td>\n",
       "      <td>miso-butter-roast-chicken-acorn-squash-panzanella</td>\n",
       "      <td>['1 (3½–4-lb.) whole chicken', '2¾ tsp. kosher...</td>\n",
       "      <td>['chicken', 'acorn', 'squash', 'sage', 'rosema...</td>\n",
       "      <td>[chicken, acorn, squash, sage, rosemary, butte...</td>\n",
       "    </tr>\n",
       "    <tr>\n",
       "      <th>1</th>\n",
       "      <td>1</td>\n",
       "      <td>Crispy Salt and Pepper Potatoes</td>\n",
       "      <td>['2 large egg whites', '1 pound new potatoes (...</td>\n",
       "      <td>Preheat oven to 400°F and line a rimmed baking...</td>\n",
       "      <td>crispy-salt-and-pepper-potatoes-dan-kluger</td>\n",
       "      <td>['2 large egg whites', '1 pound new potatoes (...</td>\n",
       "      <td>['egg', 'whites', 'new', 'potatoes', 'ground',...</td>\n",
       "      <td>[egg, whites, new, potatoes, ground, black, pe...</td>\n",
       "    </tr>\n",
       "    <tr>\n",
       "      <th>2</th>\n",
       "      <td>2</td>\n",
       "      <td>Thanksgiving Mac and Cheese</td>\n",
       "      <td>['1 cup evaporated milk', '1 cup whole milk', ...</td>\n",
       "      <td>Place a rack in middle of oven; preheat to 400...</td>\n",
       "      <td>thanksgiving-mac-and-cheese-erick-williams</td>\n",
       "      <td>['1 cup evaporated milk', '1 cup whole milk', ...</td>\n",
       "      <td>['evaporated', 'milk', 'milk', 'garlic', 'powd...</td>\n",
       "      <td>[evaporated, milk, milk, garlic, powder, onion...</td>\n",
       "    </tr>\n",
       "    <tr>\n",
       "      <th>3</th>\n",
       "      <td>3</td>\n",
       "      <td>Italian Sausage and Bread Stuffing</td>\n",
       "      <td>['1 (¾- to 1-pound) round Italian loaf, cut in...</td>\n",
       "      <td>Preheat oven to 350°F with rack in middle. Gen...</td>\n",
       "      <td>italian-sausage-and-bread-stuffing-240559</td>\n",
       "      <td>['1 (¾- to 1-pound) round Italian loaf, cut in...</td>\n",
       "      <td>['round', 'italian', 'loaf', 'olive', 'oil', '...</td>\n",
       "      <td>[round, italian, loaf, olive, oil, sweet, ital...</td>\n",
       "    </tr>\n",
       "    <tr>\n",
       "      <th>4</th>\n",
       "      <td>4</td>\n",
       "      <td>Newton's Law</td>\n",
       "      <td>['1 teaspoon dark brown sugar', '1 teaspoon ho...</td>\n",
       "      <td>Stir together brown sugar and hot water in a c...</td>\n",
       "      <td>newtons-law-apple-bourbon-cocktail</td>\n",
       "      <td>['1 teaspoon dark brown sugar', '1 teaspoon ho...</td>\n",
       "      <td>['dark', 'brown', 'bourbon', 'fresh', 'lemon',...</td>\n",
       "      <td>[dark, brown, bourbon, fresh, lemon, juice, ap...</td>\n",
       "    </tr>\n",
       "  </tbody>\n",
       "</table>\n",
       "</div>"
      ],
      "text/plain": [
       "   Unnamed: 0                                              Title  \\\n",
       "0           0  Miso-Butter Roast Chicken With Acorn Squash Pa...   \n",
       "1           1                    Crispy Salt and Pepper Potatoes   \n",
       "2           2                        Thanksgiving Mac and Cheese   \n",
       "3           3                 Italian Sausage and Bread Stuffing   \n",
       "4           4                                       Newton's Law   \n",
       "\n",
       "                                         Ingredients  \\\n",
       "0  ['1 (3½–4-lb.) whole chicken', '2¾ tsp. kosher...   \n",
       "1  ['2 large egg whites', '1 pound new potatoes (...   \n",
       "2  ['1 cup evaporated milk', '1 cup whole milk', ...   \n",
       "3  ['1 (¾- to 1-pound) round Italian loaf, cut in...   \n",
       "4  ['1 teaspoon dark brown sugar', '1 teaspoon ho...   \n",
       "\n",
       "                                        Instructions  \\\n",
       "0  Pat chicken dry with paper towels, season all ...   \n",
       "1  Preheat oven to 400°F and line a rimmed baking...   \n",
       "2  Place a rack in middle of oven; preheat to 400...   \n",
       "3  Preheat oven to 350°F with rack in middle. Gen...   \n",
       "4  Stir together brown sugar and hot water in a c...   \n",
       "\n",
       "                                          Image_Name  \\\n",
       "0  miso-butter-roast-chicken-acorn-squash-panzanella   \n",
       "1         crispy-salt-and-pepper-potatoes-dan-kluger   \n",
       "2         thanksgiving-mac-and-cheese-erick-williams   \n",
       "3          italian-sausage-and-bread-stuffing-240559   \n",
       "4                 newtons-law-apple-bourbon-cocktail   \n",
       "\n",
       "                                 Cleaned_Ingredients  \\\n",
       "0  ['1 (3½–4-lb.) whole chicken', '2¾ tsp. kosher...   \n",
       "1  ['2 large egg whites', '1 pound new potatoes (...   \n",
       "2  ['1 cup evaporated milk', '1 cup whole milk', ...   \n",
       "3  ['1 (¾- to 1-pound) round Italian loaf, cut in...   \n",
       "4  ['1 teaspoon dark brown sugar', '1 teaspoon ho...   \n",
       "\n",
       "                                  Bag_Of_Ingredients  \\\n",
       "0  ['chicken', 'acorn', 'squash', 'sage', 'rosema...   \n",
       "1  ['egg', 'whites', 'new', 'potatoes', 'ground',...   \n",
       "2  ['evaporated', 'milk', 'milk', 'garlic', 'powd...   \n",
       "3  ['round', 'italian', 'loaf', 'olive', 'oil', '...   \n",
       "4  ['dark', 'brown', 'bourbon', 'fresh', 'lemon',...   \n",
       "\n",
       "                                           Clean_bag  \n",
       "0  [chicken, acorn, squash, sage, rosemary, butte...  \n",
       "1  [egg, whites, new, potatoes, ground, black, pe...  \n",
       "2  [evaporated, milk, milk, garlic, powder, onion...  \n",
       "3  [round, italian, loaf, olive, oil, sweet, ital...  \n",
       "4  [dark, brown, bourbon, fresh, lemon, juice, ap...  "
      ]
     },
     "execution_count": 28,
     "metadata": {},
     "output_type": "execute_result"
    }
   ],
   "source": [
    "recipes_df.head()"
   ]
  },
  {
   "cell_type": "code",
   "execution_count": 6,
   "id": "89a7a170",
   "metadata": {},
   "outputs": [],
   "source": [
    "X = recipes_df[\"Bag_Of_Ingredients\"]"
   ]
  },
  {
   "cell_type": "code",
   "execution_count": null,
   "id": "6e0750b8",
   "metadata": {},
   "outputs": [],
   "source": []
  },
  {
   "cell_type": "code",
   "execution_count": 7,
   "id": "3cdeded6",
   "metadata": {},
   "outputs": [],
   "source": [
    "def clean_list(ingredient_list):\n",
    "    ingredient_list = ingredient_list[2:-2]\n",
    "    ingredient_list = ''.join(ingredient_list)\n",
    "    ingredient_list = ingredient_list.split(\"', '\")\n",
    "    return ingredient_list"
   ]
  },
  {
   "cell_type": "code",
   "execution_count": 8,
   "id": "5edceccd",
   "metadata": {},
   "outputs": [],
   "source": [
    "recipes_df[\"Clean_bag\"]=recipes_df[\"Bag_Of_Ingredients\"].map(clean_list)"
   ]
  },
  {
   "cell_type": "code",
   "execution_count": 19,
   "id": "3b1509b8",
   "metadata": {},
   "outputs": [],
   "source": [
    "ingredients = [\"chicken\",\"garlic\",\"oil\",\"rice\",\"tomato\",\"pepper\",\"onion\",\"potato\"]"
   ]
  },
  {
   "cell_type": "code",
   "execution_count": 20,
   "id": "813f829b",
   "metadata": {},
   "outputs": [],
   "source": [
    "model = Trainer(X=recipes_df[\"Clean_bag\"],y=ingredients)"
   ]
  },
  {
   "cell_type": "code",
   "execution_count": 21,
   "id": "d9e347a9",
   "metadata": {},
   "outputs": [],
   "source": [
    "model.set_model()"
   ]
  },
  {
   "cell_type": "code",
   "execution_count": 22,
   "id": "697a3fb1",
   "metadata": {},
   "outputs": [],
   "source": [
    "model.get_model_words()"
   ]
  },
  {
   "cell_type": "code",
   "execution_count": 23,
   "id": "0c7efaac",
   "metadata": {},
   "outputs": [
    {
     "name": "stderr",
     "output_type": "stream",
     "text": [
      "/home/tjvillalobos/code/denwychan/wots_cookin/wots_cookin/trainer.py:34: RuntimeWarning: invalid value encountered in true_divide\n",
      "  return np.true_divide(sum(embeddingList), countFound)\n"
     ]
    }
   ],
   "source": [
    "model.recipes_list()"
   ]
  },
  {
   "cell_type": "code",
   "execution_count": 24,
   "id": "74f5fd28",
   "metadata": {},
   "outputs": [
    {
     "data": {
      "text/plain": [
       "array([0.7782079 , 0.66579807, 0.58462852, ..., 0.58783573, 0.16156915,\n",
       "       0.60672903])"
      ]
     },
     "execution_count": 24,
     "metadata": {},
     "output_type": "execute_result"
    }
   ],
   "source": [
    "model.similar_recipe()"
   ]
  },
  {
   "cell_type": "code",
   "execution_count": 29,
   "id": "618d6e03",
   "metadata": {},
   "outputs": [],
   "source": [
    "list_of_matches = model.getListofRecipes(recipes_df,100)"
   ]
  },
  {
   "cell_type": "code",
   "execution_count": 30,
   "id": "9d505544",
   "metadata": {},
   "outputs": [
    {
     "data": {
      "text/html": [
       "<div>\n",
       "<style scoped>\n",
       "    .dataframe tbody tr th:only-of-type {\n",
       "        vertical-align: middle;\n",
       "    }\n",
       "\n",
       "    .dataframe tbody tr th {\n",
       "        vertical-align: top;\n",
       "    }\n",
       "\n",
       "    .dataframe thead th {\n",
       "        text-align: right;\n",
       "    }\n",
       "</style>\n",
       "<table border=\"1\" class=\"dataframe\">\n",
       "  <thead>\n",
       "    <tr style=\"text-align: right;\">\n",
       "      <th></th>\n",
       "      <th>Title</th>\n",
       "      <th>Ingredients</th>\n",
       "    </tr>\n",
       "  </thead>\n",
       "  <tbody>\n",
       "    <tr>\n",
       "      <th>602</th>\n",
       "      <td>Tomato and Parmesan Risotto</td>\n",
       "      <td>['5 cups low-sodium chicken broth', '2 Tbsp. e...</td>\n",
       "    </tr>\n",
       "    <tr>\n",
       "      <th>29</th>\n",
       "      <td>Dad’s Curried Chicken</td>\n",
       "      <td>['1 (4-pound) chicken, cut into 8 pieces, skin...</td>\n",
       "    </tr>\n",
       "    <tr>\n",
       "      <th>1480</th>\n",
       "      <td>Paella with Tomatoes and Eggs</td>\n",
       "      <td>['3 1/2 cups vegetable stock or water, plus mo...</td>\n",
       "    </tr>\n",
       "    <tr>\n",
       "      <th>2866</th>\n",
       "      <td>Jollof Rice</td>\n",
       "      <td>['4 red bell peppers', '2 medium to large onio...</td>\n",
       "    </tr>\n",
       "    <tr>\n",
       "      <th>4943</th>\n",
       "      <td>Canal House Lentils</td>\n",
       "      <td>['2 tablespoons olive oil', '1 medium leek, wh...</td>\n",
       "    </tr>\n",
       "    <tr>\n",
       "      <th>...</th>\n",
       "      <td>...</td>\n",
       "      <td>...</td>\n",
       "    </tr>\n",
       "    <tr>\n",
       "      <th>2309</th>\n",
       "      <td>Haitian Beef and Pumpkin Soup (Soup Joumou)</td>\n",
       "      <td>['1 cup plus 1 tablespoon distilled white vine...</td>\n",
       "    </tr>\n",
       "    <tr>\n",
       "      <th>31</th>\n",
       "      <td>Shrimp Creole</td>\n",
       "      <td>['3 garlic cloves, minced', '2 large onions, c...</td>\n",
       "    </tr>\n",
       "    <tr>\n",
       "      <th>8116</th>\n",
       "      <td>Gardein \"Chicken\" Scaloppini with Shiitake Sak...</td>\n",
       "      <td>['4 (7-ounce single-serving) packs precooked u...</td>\n",
       "    </tr>\n",
       "    <tr>\n",
       "      <th>8057</th>\n",
       "      <td>Cassoulet</td>\n",
       "      <td>['12 cups chicken broth', '3 cups dry navy bea...</td>\n",
       "    </tr>\n",
       "    <tr>\n",
       "      <th>7247</th>\n",
       "      <td>Garbanzo Bean Stew with Escarole</td>\n",
       "      <td>['1/2 teaspoon olive oil', '1/2 small onion, c...</td>\n",
       "    </tr>\n",
       "  </tbody>\n",
       "</table>\n",
       "<p>100 rows × 2 columns</p>\n",
       "</div>"
      ],
      "text/plain": [
       "                                                  Title  \\\n",
       "602                         Tomato and Parmesan Risotto   \n",
       "29                                Dad’s Curried Chicken   \n",
       "1480                      Paella with Tomatoes and Eggs   \n",
       "2866                                        Jollof Rice   \n",
       "4943                                Canal House Lentils   \n",
       "...                                                 ...   \n",
       "2309        Haitian Beef and Pumpkin Soup (Soup Joumou)   \n",
       "31                                        Shrimp Creole   \n",
       "8116  Gardein \"Chicken\" Scaloppini with Shiitake Sak...   \n",
       "8057                                          Cassoulet   \n",
       "7247                   Garbanzo Bean Stew with Escarole   \n",
       "\n",
       "                                            Ingredients  \n",
       "602   ['5 cups low-sodium chicken broth', '2 Tbsp. e...  \n",
       "29    ['1 (4-pound) chicken, cut into 8 pieces, skin...  \n",
       "1480  ['3 1/2 cups vegetable stock or water, plus mo...  \n",
       "2866  ['4 red bell peppers', '2 medium to large onio...  \n",
       "4943  ['2 tablespoons olive oil', '1 medium leek, wh...  \n",
       "...                                                 ...  \n",
       "2309  ['1 cup plus 1 tablespoon distilled white vine...  \n",
       "31    ['3 garlic cloves, minced', '2 large onions, c...  \n",
       "8116  ['4 (7-ounce single-serving) packs precooked u...  \n",
       "8057  ['12 cups chicken broth', '3 cups dry navy bea...  \n",
       "7247  ['1/2 teaspoon olive oil', '1/2 small onion, c...  \n",
       "\n",
       "[100 rows x 2 columns]"
      ]
     },
     "execution_count": 30,
     "metadata": {},
     "output_type": "execute_result"
    }
   ],
   "source": [
    "list_of_matches\n"
   ]
  },
  {
   "cell_type": "code",
   "execution_count": null,
   "id": "b2c12403",
   "metadata": {},
   "outputs": [],
   "source": []
  }
 ],
 "metadata": {
  "kernelspec": {
   "display_name": "Python 3 (ipykernel)",
   "language": "python",
   "name": "python3"
  },
  "language_info": {
   "codemirror_mode": {
    "name": "ipython",
    "version": 3
   },
   "file_extension": ".py",
   "mimetype": "text/x-python",
   "name": "python",
   "nbconvert_exporter": "python",
   "pygments_lexer": "ipython3",
   "version": "3.8.12"
  },
  "toc": {
   "base_numbering": 1,
   "nav_menu": {},
   "number_sections": true,
   "sideBar": true,
   "skip_h1_title": false,
   "title_cell": "Table of Contents",
   "title_sidebar": "Contents",
   "toc_cell": false,
   "toc_position": {},
   "toc_section_display": true,
   "toc_window_display": false
  }
 },
 "nbformat": 4,
 "nbformat_minor": 5
}

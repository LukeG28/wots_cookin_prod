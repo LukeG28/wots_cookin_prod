{
 "cells": [
  {
   "cell_type": "code",
   "execution_count": 1,
   "id": "210976db",
   "metadata": {},
   "outputs": [],
   "source": [
    "# imports\n",
    "import sys\n",
    "import pandas as pd\n",
    "import string\n",
    "from nltk.tokenize import word_tokenize\n",
    "import numpy as np\n",
    "import os, sys\n",
    "%load_ext autoreload \n",
    "%autoreload 2"
   ]
  },
  {
   "cell_type": "code",
   "execution_count": 3,
   "id": "6d7e7a02",
   "metadata": {},
   "outputs": [],
   "source": [
    "parent_path = os.path.split(os.getcwd())[0]\n",
    "if parent_path  not in sys.path:\n",
    "    sys.path.append(parent_path)"
   ]
  },
  {
   "cell_type": "code",
   "execution_count": 4,
   "id": "86cf93c0",
   "metadata": {},
   "outputs": [],
   "source": [
    "# Imports from local module\n",
    "from wots_cookin.data import load_clean_data, basic_clean\n",
    "from wots_cookin.word2vec_trainer import *\n",
    "from wots_cookin.search import *"
   ]
  },
  {
   "cell_type": "code",
   "execution_count": 45,
   "id": "9de51fd8",
   "metadata": {},
   "outputs": [
    {
     "name": "stdout",
     "output_type": "stream",
     "text": [
      "8 rows containing NAs dropped...\n",
      "6 rows containing empty ingredients dropped...\n",
      "Data loaded.\n",
      "Cleaning formatting...\n",
      "Returning list of 461 stopwords\n",
      "Removing stopwords...\n",
      "Order's up!\n",
      "Returning dataframe with Bag_Of_Ingredients\n",
      "Recipes corpus set\n",
      "13487 recipes vectorized\n",
      "Model trained!\n",
      "Recipes with vectors created!\n"
     ]
    }
   ],
   "source": [
    "model_topickle()"
   ]
  },
  {
   "cell_type": "code",
   "execution_count": 46,
   "id": "5bfae1f2",
   "metadata": {},
   "outputs": [],
   "source": [
    "df = pd.read_pickle(\"../raw_data/enriched_recipes.pkl\")\n",
    "df.drop(columns = ['index'], inplace = True)"
   ]
  },
  {
   "cell_type": "code",
   "execution_count": 48,
   "id": "318bbcc0",
   "metadata": {},
   "outputs": [
    {
     "name": "stdout",
     "output_type": "stream",
     "text": [
      "<class 'pandas.core.frame.DataFrame'>\n",
      "RangeIndex: 13487 entries, 0 to 13486\n",
      "Data columns (total 16 columns):\n",
      " #   Column               Non-Null Count  Dtype \n",
      "---  ------               --------------  ----- \n",
      " 0   Title                13487 non-null  object\n",
      " 1   Ingredients          13487 non-null  object\n",
      " 2   Instructions         13487 non-null  object\n",
      " 3   Image_Name           13487 non-null  object\n",
      " 4   Cleaned_Ingredients  13487 non-null  object\n",
      " 5   Bag_Of_Ingredients   13487 non-null  object\n",
      " 6   Ingredients_Length   13487 non-null  int64 \n",
      " 7   Dairy free           13487 non-null  int64 \n",
      " 8   No eggs              13487 non-null  int64 \n",
      " 9   Nut free             13487 non-null  int64 \n",
      " 10  No shellfish         13487 non-null  int64 \n",
      " 11  Gluten free          13487 non-null  int64 \n",
      " 12  No soy               13487 non-null  int64 \n",
      " 13  Vegetarian           13487 non-null  int64 \n",
      " 14  Vegan                13487 non-null  int64 \n",
      " 15  Vector_List          13487 non-null  object\n",
      "dtypes: int64(9), object(7)\n",
      "memory usage: 1.6+ MB\n"
     ]
    }
   ],
   "source": [
    "df.info()"
   ]
  },
  {
   "cell_type": "code",
   "execution_count": 49,
   "id": "5d22488c",
   "metadata": {},
   "outputs": [
    {
     "data": {
      "text/plain": [
       "array([-0.6576614 ,  0.08998758, -0.5539392 , -0.2389411 , -0.11817149,\n",
       "       -0.47335452,  0.6401035 ,  0.16134764, -1.4129729 , -0.3103403 ,\n",
       "       -0.33989453, -0.7942448 ,  0.3331764 , -0.02060852,  0.874237  ,\n",
       "        0.71043533,  0.17645863,  0.7359437 , -0.38619316, -0.10781728,\n",
       "       -0.59816855,  0.01483529,  1.1520963 ,  0.12194681,  0.21909334,\n",
       "       -0.875582  ,  0.21959363,  0.32215866,  0.24488746, -0.01187852,\n",
       "        0.40558362, -0.97944295,  0.22494248, -0.7216437 ,  0.0904078 ,\n",
       "        0.45701835,  0.29935   , -0.09573941, -0.16305234,  0.3045715 ,\n",
       "        0.5592957 , -0.08467277, -0.39279073,  0.991757  ,  0.02293962,\n",
       "       -0.35506874,  0.01170945,  0.74648327, -1.0782164 ,  0.0041171 ],\n",
       "      dtype=float32)"
      ]
     },
     "execution_count": 49,
     "metadata": {},
     "output_type": "execute_result"
    }
   ],
   "source": [
    "df['Vector_List'][0]"
   ]
  },
  {
   "cell_type": "code",
   "execution_count": 40,
   "id": "a90272e7",
   "metadata": {},
   "outputs": [
    {
     "data": {
      "text/plain": [
       "numpy.int64"
      ]
     },
     "execution_count": 40,
     "metadata": {},
     "output_type": "execute_result"
    }
   ],
   "source": [
    "type(df['Dairy free'][0])"
   ]
  },
  {
   "cell_type": "code",
   "execution_count": 15,
   "id": "623e159a",
   "metadata": {},
   "outputs": [
    {
     "name": "stdout",
     "output_type": "stream",
     "text": [
      "<class 'pandas.core.frame.DataFrame'>\n",
      "RangeIndex: 13487 entries, 0 to 13486\n",
      "Data columns (total 9 columns):\n",
      " #   Column               Non-Null Count  Dtype \n",
      "---  ------               --------------  ----- \n",
      " 0   index                13487 non-null  int64 \n",
      " 1   Title                13487 non-null  object\n",
      " 2   Ingredients          13487 non-null  object\n",
      " 3   Instructions         13487 non-null  object\n",
      " 4   Image_Name           13487 non-null  object\n",
      " 5   Cleaned_Ingredients  13487 non-null  object\n",
      " 6   Bag_Of_Ingredients   13487 non-null  object\n",
      " 7   length               13487 non-null  int64 \n",
      " 8   Vector_List          13487 non-null  object\n",
      "dtypes: int64(2), object(7)\n",
      "memory usage: 948.4+ KB\n"
     ]
    }
   ],
   "source": [
    "df.info()"
   ]
  },
  {
   "cell_type": "code",
   "execution_count": 12,
   "id": "f494e8c8",
   "metadata": {},
   "outputs": [
    {
     "data": {
      "text/plain": [
       "numpy.ndarray"
      ]
     },
     "execution_count": 12,
     "metadata": {},
     "output_type": "execute_result"
    }
   ],
   "source": [
    "type(df['Vector_List'][0])"
   ]
  },
  {
   "cell_type": "code",
   "execution_count": 7,
   "id": "b7b71985",
   "metadata": {},
   "outputs": [],
   "source": [
    "ingredients = ['chicken', 'onion', 'spring', 'onion', 'celery', 'garlic', 'leaks']"
   ]
  },
  {
   "cell_type": "code",
   "execution_count": 8,
   "id": "bff000d0",
   "metadata": {},
   "outputs": [],
   "source": [
    "boi = df['Bag_Of_Ingredients']"
   ]
  },
  {
   "cell_type": "markdown",
   "id": "5dbdeea3",
   "metadata": {},
   "source": [
    "Scoring - matches with words in bag of words and ingredients in cleaned ingredients"
   ]
  },
  {
   "cell_type": "code",
   "execution_count": null,
   "id": "84f451cb",
   "metadata": {},
   "outputs": [],
   "source": [
    "\n",
    "            #loading clean dataframe of recipes\n",
    "\n",
    "            # df = load_clean_data(additional=True)\n",
    "\n",
    "            # #using search function to find no.1 matching recipe\n",
    "            # top_recipes = shortlist_recipes(df, output, df.index)\n",
    "            # no_1 = top_recipes[0][0]\n",
    "            # title = df.loc[no_1, 'Title']\n",
    "            # ingredients = df.loc[no_1, 'Cleaned_Ingredients']\n",
    "            # instructions = df.loc[no_1, 'Instructions']\n",
    "\n",
    "            # #printing no.1 recipe (title, ingredients and instructions)\n",
    "            # st.write(f'{title}')\n",
    "            # st.write(f'Ingredients: {ingredients}')\n",
    "            # st.write('Instructions')\n",
    "            # st.write(f'{instructions}')\n",
    "\n",
    "            # Load clean data to train Word2Vec model\n",
    "\n",
    "            # Get similar matches and output top 15 results\n",
    "            matches_df = model.get_similar_recipes(output, model_df, 15)\n",
    "            results_df = matches_df[['Title','Cleaned_Ingredients']].copy()\n",
    "            results_df.reset_index(inplace= True)\n",
    "\n",
    "            # Create slider to allow the user to select the number of results\n",
    "            # in the results dataframe\n",
    "            results_count = st.slider('Select number of results', 1, 15, 5)\n",
    "\n",
    "            # and used in order to select the displayed lines\n",
    "            results_df = results_df.head(results_count)\n",
    "\n",
    "            results_df"
   ]
  }
 ],
 "metadata": {
  "kernelspec": {
   "display_name": "Python 3 (ipykernel)",
   "language": "python",
   "name": "python3"
  },
  "language_info": {
   "codemirror_mode": {
    "name": "ipython",
    "version": 3
   },
   "file_extension": ".py",
   "mimetype": "text/x-python",
   "name": "python",
   "nbconvert_exporter": "python",
   "pygments_lexer": "ipython3",
   "version": "3.8.13"
  },
  "toc": {
   "base_numbering": 1,
   "nav_menu": {},
   "number_sections": true,
   "sideBar": true,
   "skip_h1_title": false,
   "title_cell": "Table of Contents",
   "title_sidebar": "Contents",
   "toc_cell": false,
   "toc_position": {},
   "toc_section_display": true,
   "toc_window_display": false
  }
 },
 "nbformat": 4,
 "nbformat_minor": 5
}

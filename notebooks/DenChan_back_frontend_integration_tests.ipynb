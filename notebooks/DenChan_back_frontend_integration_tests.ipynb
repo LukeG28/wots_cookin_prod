{
 "cells": [
  {
   "cell_type": "code",
   "execution_count": 1,
   "id": "210976db",
   "metadata": {},
   "outputs": [],
   "source": [
    "# imports\n",
    "import sys\n",
    "import pandas as pd\n",
    "import string\n",
    "from nltk.tokenize import word_tokenize\n",
    "import numpy as np\n",
    "import os, sys\n",
    "%load_ext autoreload \n",
    "%autoreload 2"
   ]
  },
  {
   "cell_type": "code",
   "execution_count": 2,
   "id": "6d7e7a02",
   "metadata": {},
   "outputs": [],
   "source": [
    "parent_path = os.path.split(os.getcwd())[0]\n",
    "if parent_path  not in sys.path:\n",
    "    sys.path.append(parent_path)"
   ]
  },
  {
   "cell_type": "code",
   "execution_count": 28,
   "id": "86cf93c0",
   "metadata": {},
   "outputs": [],
   "source": [
    "# Imports from local module\n",
    "from wots_cookin.data import load_clean_data, basic_clean\n",
    "from wots_cookin.word2vec_trainer import *\n",
    "from wots_cookin.search import *"
   ]
  },
  {
   "cell_type": "code",
   "execution_count": 45,
   "id": "0cd197d2",
   "metadata": {},
   "outputs": [
    {
     "name": "stdout",
     "output_type": "stream",
     "text": [
      "8 rows containing NAs dropped...\n",
      "6 rows containing empty ingredients dropped...\n",
      "Data loaded.\n",
      "Cleaning formatting...\n",
      "Returning list of 461 stopwords\n",
      "Removing stopwords...\n",
      "Order's up!\n",
      "Returning dataframe with Bag_Of_Ingredients\n",
      "Recipes corpus set\n",
      "13487 recipes vectorized\n",
      "Model trained!\n",
      "Recipes with vectors created!\n"
     ]
    }
   ],
   "source": [
    "model_topickle()"
   ]
  },
  {
   "cell_type": "code",
   "execution_count": 46,
   "id": "69a98a84",
   "metadata": {},
   "outputs": [],
   "source": [
    "df = pd.read_pickle(\"../raw_data/enriched_recipes.pkl\")"
   ]
  },
  {
   "cell_type": "code",
   "execution_count": 47,
   "id": "eea90560",
   "metadata": {},
   "outputs": [],
   "source": [
    "df.drop(columns = ['index'], inplace = True)"
   ]
  },
  {
   "cell_type": "code",
   "execution_count": 48,
   "id": "a52a64da",
   "metadata": {},
   "outputs": [
    {
     "name": "stdout",
     "output_type": "stream",
     "text": [
      "<class 'pandas.core.frame.DataFrame'>\n",
      "RangeIndex: 13487 entries, 0 to 13486\n",
      "Data columns (total 16 columns):\n",
      " #   Column               Non-Null Count  Dtype \n",
      "---  ------               --------------  ----- \n",
      " 0   Title                13487 non-null  object\n",
      " 1   Ingredients          13487 non-null  object\n",
      " 2   Instructions         13487 non-null  object\n",
      " 3   Image_Name           13487 non-null  object\n",
      " 4   Cleaned_Ingredients  13487 non-null  object\n",
      " 5   Bag_Of_Ingredients   13487 non-null  object\n",
      " 6   Ingredients_Length   13487 non-null  int64 \n",
      " 7   Dairy free           13487 non-null  int64 \n",
      " 8   No eggs              13487 non-null  int64 \n",
      " 9   Nut free             13487 non-null  int64 \n",
      " 10  No shellfish         13487 non-null  int64 \n",
      " 11  Gluten free          13487 non-null  int64 \n",
      " 12  No soy               13487 non-null  int64 \n",
      " 13  Vegetarian           13487 non-null  int64 \n",
      " 14  Vegan                13487 non-null  int64 \n",
      " 15  Vector_List          13487 non-null  object\n",
      "dtypes: int64(9), object(7)\n",
      "memory usage: 1.6+ MB\n"
     ]
    }
   ],
   "source": [
    "df.info()"
   ]
  },
  {
   "cell_type": "code",
   "execution_count": 49,
   "id": "3aaa1946",
   "metadata": {},
   "outputs": [
    {
     "data": {
      "text/plain": [
       "array([-0.6576614 ,  0.08998758, -0.5539392 , -0.2389411 , -0.11817149,\n",
       "       -0.47335452,  0.6401035 ,  0.16134764, -1.4129729 , -0.3103403 ,\n",
       "       -0.33989453, -0.7942448 ,  0.3331764 , -0.02060852,  0.874237  ,\n",
       "        0.71043533,  0.17645863,  0.7359437 , -0.38619316, -0.10781728,\n",
       "       -0.59816855,  0.01483529,  1.1520963 ,  0.12194681,  0.21909334,\n",
       "       -0.875582  ,  0.21959363,  0.32215866,  0.24488746, -0.01187852,\n",
       "        0.40558362, -0.97944295,  0.22494248, -0.7216437 ,  0.0904078 ,\n",
       "        0.45701835,  0.29935   , -0.09573941, -0.16305234,  0.3045715 ,\n",
       "        0.5592957 , -0.08467277, -0.39279073,  0.991757  ,  0.02293962,\n",
       "       -0.35506874,  0.01170945,  0.74648327, -1.0782164 ,  0.0041171 ],\n",
       "      dtype=float32)"
      ]
     },
     "execution_count": 49,
     "metadata": {},
     "output_type": "execute_result"
    }
   ],
   "source": [
    "df['Vector_List'][0]"
   ]
  },
  {
   "cell_type": "code",
   "execution_count": 40,
   "id": "2be1de51",
   "metadata": {},
   "outputs": [
    {
     "data": {
      "text/plain": [
       "numpy.int64"
      ]
     },
     "execution_count": 40,
     "metadata": {},
     "output_type": "execute_result"
    }
   ],
   "source": [
    "type(df['Dairy free'][0])"
   ]
  },
  {
   "cell_type": "code",
   "execution_count": 15,
   "id": "2d291429",
   "metadata": {},
   "outputs": [
    {
     "name": "stdout",
     "output_type": "stream",
     "text": [
      "<class 'pandas.core.frame.DataFrame'>\n",
      "RangeIndex: 13487 entries, 0 to 13486\n",
      "Data columns (total 9 columns):\n",
      " #   Column               Non-Null Count  Dtype \n",
      "---  ------               --------------  ----- \n",
      " 0   index                13487 non-null  int64 \n",
      " 1   Title                13487 non-null  object\n",
      " 2   Ingredients          13487 non-null  object\n",
      " 3   Instructions         13487 non-null  object\n",
      " 4   Image_Name           13487 non-null  object\n",
      " 5   Cleaned_Ingredients  13487 non-null  object\n",
      " 6   Bag_Of_Ingredients   13487 non-null  object\n",
      " 7   length               13487 non-null  int64 \n",
      " 8   Vector_List          13487 non-null  object\n",
      "dtypes: int64(2), object(7)\n",
      "memory usage: 948.4+ KB\n"
     ]
    }
   ],
   "source": [
    "df.info()"
   ]
  },
  {
   "cell_type": "code",
   "execution_count": 12,
   "id": "1d32d6b3",
   "metadata": {},
   "outputs": [
    {
     "data": {
      "text/plain": [
       "numpy.ndarray"
      ]
     },
     "execution_count": 12,
     "metadata": {},
     "output_type": "execute_result"
    }
   ],
   "source": [
    "type(df['Vector_List'][0])"
   ]
  },
  {
   "cell_type": "code",
   "execution_count": 6,
   "id": "79e9b813",
   "metadata": {},
   "outputs": [
    {
     "name": "stdout",
     "output_type": "stream",
     "text": [
      "(13487, 6)\n",
      "(7740, 8)\n"
     ]
    }
   ],
   "source": [
    "print(df.shape)\n",
    "print(df1.shape)"
   ]
  },
  {
   "cell_type": "code",
   "execution_count": 7,
   "id": "b7b71985",
   "metadata": {},
   "outputs": [],
   "source": [
    "ingredients = ['chicken', 'onion', 'spring', 'onion', 'celery', 'garlic', 'leaks']"
   ]
  },
  {
   "cell_type": "code",
   "execution_count": 8,
   "id": "bff000d0",
   "metadata": {},
   "outputs": [],
   "source": [
    "boi = df['Bag_Of_Ingredients']"
   ]
  },
  {
   "cell_type": "raw",
   "id": "bd0de0e6",
   "metadata": {},
   "source": [
    "type(results)"
   ]
  },
  {
   "cell_type": "markdown",
   "id": "5dbdeea3",
   "metadata": {},
   "source": [
    "Scoring - matches with words in bag of words and ingredients in cleaned ingredients"
   ]
  },
  {
   "cell_type": "code",
   "execution_count": 17,
   "id": "d0fc8bf2",
   "metadata": {},
   "outputs": [
    {
     "name": "stdout",
     "output_type": "stream",
     "text": [
      "8 rows containing NAs dropped...\n",
      "6 rows containing empty ingredients dropped...\n",
      "Data loaded.\n",
      "Cleaning formatting...\n",
      "Returning list of 461 stopwords\n",
      "Removing stopwords...\n",
      "Order's up!\n",
      "Returning dataframe with Bag_Of_Ingredients\n",
      "Recipes corpus set\n",
      "13487 recipes vectorized\n",
      "Model trained!\n"
     ]
    }
   ],
   "source": [
    "model = model_tocsv()"
   ]
  },
  {
   "cell_type": "code",
   "execution_count": 48,
   "id": "e1ff1c23",
   "metadata": {},
   "outputs": [
    {
     "data": {
      "text/html": [
       "<div>\n",
       "<style scoped>\n",
       "    .dataframe tbody tr th:only-of-type {\n",
       "        vertical-align: middle;\n",
       "    }\n",
       "\n",
       "    .dataframe tbody tr th {\n",
       "        vertical-align: top;\n",
       "    }\n",
       "\n",
       "    .dataframe thead th {\n",
       "        text-align: right;\n",
       "    }\n",
       "</style>\n",
       "<table border=\"1\" class=\"dataframe\">\n",
       "  <thead>\n",
       "    <tr style=\"text-align: right;\">\n",
       "      <th></th>\n",
       "      <th>Title</th>\n",
       "      <th>Ingredients</th>\n",
       "      <th>Instructions</th>\n",
       "      <th>Image_Name</th>\n",
       "      <th>Cleaned_Ingredients</th>\n",
       "      <th>Bag_Of_Ingredients</th>\n",
       "      <th>Vector_List</th>\n",
       "    </tr>\n",
       "  </thead>\n",
       "  <tbody>\n",
       "    <tr>\n",
       "      <th>0</th>\n",
       "      <td>Miso-Butter Roast Chicken With Acorn Squash Pa...</td>\n",
       "      <td>['1 (3½–4-lb.) whole chicken', '2¾ tsp. kosher...</td>\n",
       "      <td>Pat chicken dry with paper towels, season all ...</td>\n",
       "      <td>miso-butter-roast-chicken-acorn-squash-panzanella</td>\n",
       "      <td>['1 (3½–4-lb.) whole chicken', '2¾ tsp. kosher...</td>\n",
       "      <td>['chicken', 'acorn', 'squash', 'sage', 'rosema...</td>\n",
       "      <td>[-0.5898466   0.02073149 -0.53710073 -0.151976...</td>\n",
       "    </tr>\n",
       "    <tr>\n",
       "      <th>1</th>\n",
       "      <td>Crispy Salt and Pepper Potatoes</td>\n",
       "      <td>['2 large egg whites', '1 pound new potatoes (...</td>\n",
       "      <td>Preheat oven to 400°F and line a rimmed baking...</td>\n",
       "      <td>crispy-salt-and-pepper-potatoes-dan-kluger</td>\n",
       "      <td>['2 large egg whites', '1 pound new potatoes (...</td>\n",
       "      <td>['egg', 'whites', 'new', 'potatoes', 'ground',...</td>\n",
       "      <td>[-0.54748815 -0.16237824 -1.0528777  -0.343138...</td>\n",
       "    </tr>\n",
       "    <tr>\n",
       "      <th>2</th>\n",
       "      <td>Thanksgiving Mac and Cheese</td>\n",
       "      <td>['1 cup evaporated milk', '1 cup whole milk', ...</td>\n",
       "      <td>Place a rack in middle of oven; preheat to 400...</td>\n",
       "      <td>thanksgiving-mac-and-cheese-erick-williams</td>\n",
       "      <td>['1 cup evaporated milk', '1 cup whole milk', ...</td>\n",
       "      <td>['evaporated', 'milk', 'milk', 'garlic', 'powd...</td>\n",
       "      <td>[-0.52484286 -0.8810745  -0.5255319  -0.215986...</td>\n",
       "    </tr>\n",
       "    <tr>\n",
       "      <th>3</th>\n",
       "      <td>Italian Sausage and Bread Stuffing</td>\n",
       "      <td>['1 (¾- to 1-pound) round Italian loaf, cut in...</td>\n",
       "      <td>Preheat oven to 350°F with rack in middle. Gen...</td>\n",
       "      <td>italian-sausage-and-bread-stuffing-240559</td>\n",
       "      <td>['1 (¾- to 1-pound) round Italian loaf, cut in...</td>\n",
       "      <td>['round', 'italian', 'loaf', 'olive', 'oil', '...</td>\n",
       "      <td>[-0.3681015  -0.6427576  -0.43515164 -0.150221...</td>\n",
       "    </tr>\n",
       "    <tr>\n",
       "      <th>4</th>\n",
       "      <td>Newton's Law</td>\n",
       "      <td>['1 teaspoon dark brown sugar', '1 teaspoon ho...</td>\n",
       "      <td>Stir together brown sugar and hot water in a c...</td>\n",
       "      <td>newtons-law-apple-bourbon-cocktail</td>\n",
       "      <td>['1 teaspoon dark brown sugar', '1 teaspoon ho...</td>\n",
       "      <td>['dark', 'brown', 'bourbon', 'fresh', 'lemon',...</td>\n",
       "      <td>[-0.81219363  0.24359411 -0.18961106  0.531014...</td>\n",
       "    </tr>\n",
       "    <tr>\n",
       "      <th>...</th>\n",
       "      <td>...</td>\n",
       "      <td>...</td>\n",
       "      <td>...</td>\n",
       "      <td>...</td>\n",
       "      <td>...</td>\n",
       "      <td>...</td>\n",
       "      <td>...</td>\n",
       "    </tr>\n",
       "    <tr>\n",
       "      <th>13482</th>\n",
       "      <td>Brownie Pudding Cake</td>\n",
       "      <td>['1 cup all-purpose flour', '2/3 cup unsweeten...</td>\n",
       "      <td>Preheat the oven to 350°F. Into a bowl sift to...</td>\n",
       "      <td>brownie-pudding-cake-14408</td>\n",
       "      <td>['1 cup all-purpose flour', '2/3 cup unsweeten...</td>\n",
       "      <td>['allpurpose', 'flour', 'cocoa', 'powder', 'do...</td>\n",
       "      <td>[-1.0329453  -1.001715   -0.3596381   0.426722...</td>\n",
       "    </tr>\n",
       "    <tr>\n",
       "      <th>13483</th>\n",
       "      <td>Israeli Couscous with Roasted Butternut Squash...</td>\n",
       "      <td>['1 preserved lemon', '1 1/2 pound butternut s...</td>\n",
       "      <td>Preheat oven to 475°F.\\nHalve lemons and scoop...</td>\n",
       "      <td>israeli-couscous-with-roasted-butternut-squash...</td>\n",
       "      <td>['1 preserved lemon', '1 1/2 pound butternut s...</td>\n",
       "      <td>['preserved', 'lemon', 'butternut', 'squash', ...</td>\n",
       "      <td>[-0.48680982  0.00719695 -0.2982681  -0.118580...</td>\n",
       "    </tr>\n",
       "    <tr>\n",
       "      <th>13484</th>\n",
       "      <td>Rice with Soy-Glazed Bonito Flakes and Sesame ...</td>\n",
       "      <td>['Leftover katsuo bushi (dried bonito flakes) ...</td>\n",
       "      <td>If using katsuo bushi flakes from package, moi...</td>\n",
       "      <td>rice-with-soy-glazed-bonito-flakes-and-sesame-...</td>\n",
       "      <td>['Leftover katsuo bushi (dried bonito flakes) ...</td>\n",
       "      <td>['katsuo', 'bushi', 'dried', 'bonito', 'making...</td>\n",
       "      <td>[ 0.0806671   0.485026   -0.6581371  -0.027860...</td>\n",
       "    </tr>\n",
       "    <tr>\n",
       "      <th>13485</th>\n",
       "      <td>Spanakopita</td>\n",
       "      <td>['1 stick (1/2 cup) plus 1 tablespoon unsalted...</td>\n",
       "      <td>Melt 1 tablespoon butter in a 12-inch heavy sk...</td>\n",
       "      <td>spanakopita-107344</td>\n",
       "      <td>['1 stick (1/2 cup) plus 1 tablespoon unsalted...</td>\n",
       "      <td>['stick', 'butter', 'baby', 'spinach', 'feta',...</td>\n",
       "      <td>[-0.05527298 -0.27886343 -0.43349215  0.256546...</td>\n",
       "    </tr>\n",
       "    <tr>\n",
       "      <th>13486</th>\n",
       "      <td>Mexican Poblano, Spinach, and Black Bean \"Lasa...</td>\n",
       "      <td>['12 medium to large fresh poblano chiles (2 1...</td>\n",
       "      <td>Lay 4 chiles on their sides on racks of gas bu...</td>\n",
       "      <td>mexican-poblano-spinach-and-black-bean-lasagne...</td>\n",
       "      <td>['12 medium to large fresh poblano chiles (2 1...</td>\n",
       "      <td>['fresh', 'poblano', 'chiles', 'tomatoes', 'in...</td>\n",
       "      <td>[-1.01724587e-01  5.08926548e-02 -4.36985910e-...</td>\n",
       "    </tr>\n",
       "  </tbody>\n",
       "</table>\n",
       "<p>13487 rows × 7 columns</p>\n",
       "</div>"
      ],
      "text/plain": [
       "                                                   Title  \\\n",
       "0      Miso-Butter Roast Chicken With Acorn Squash Pa...   \n",
       "1                        Crispy Salt and Pepper Potatoes   \n",
       "2                            Thanksgiving Mac and Cheese   \n",
       "3                     Italian Sausage and Bread Stuffing   \n",
       "4                                           Newton's Law   \n",
       "...                                                  ...   \n",
       "13482                               Brownie Pudding Cake   \n",
       "13483  Israeli Couscous with Roasted Butternut Squash...   \n",
       "13484  Rice with Soy-Glazed Bonito Flakes and Sesame ...   \n",
       "13485                                        Spanakopita   \n",
       "13486  Mexican Poblano, Spinach, and Black Bean \"Lasa...   \n",
       "\n",
       "                                             Ingredients  \\\n",
       "0      ['1 (3½–4-lb.) whole chicken', '2¾ tsp. kosher...   \n",
       "1      ['2 large egg whites', '1 pound new potatoes (...   \n",
       "2      ['1 cup evaporated milk', '1 cup whole milk', ...   \n",
       "3      ['1 (¾- to 1-pound) round Italian loaf, cut in...   \n",
       "4      ['1 teaspoon dark brown sugar', '1 teaspoon ho...   \n",
       "...                                                  ...   \n",
       "13482  ['1 cup all-purpose flour', '2/3 cup unsweeten...   \n",
       "13483  ['1 preserved lemon', '1 1/2 pound butternut s...   \n",
       "13484  ['Leftover katsuo bushi (dried bonito flakes) ...   \n",
       "13485  ['1 stick (1/2 cup) plus 1 tablespoon unsalted...   \n",
       "13486  ['12 medium to large fresh poblano chiles (2 1...   \n",
       "\n",
       "                                            Instructions  \\\n",
       "0      Pat chicken dry with paper towels, season all ...   \n",
       "1      Preheat oven to 400°F and line a rimmed baking...   \n",
       "2      Place a rack in middle of oven; preheat to 400...   \n",
       "3      Preheat oven to 350°F with rack in middle. Gen...   \n",
       "4      Stir together brown sugar and hot water in a c...   \n",
       "...                                                  ...   \n",
       "13482  Preheat the oven to 350°F. Into a bowl sift to...   \n",
       "13483  Preheat oven to 475°F.\\nHalve lemons and scoop...   \n",
       "13484  If using katsuo bushi flakes from package, moi...   \n",
       "13485  Melt 1 tablespoon butter in a 12-inch heavy sk...   \n",
       "13486  Lay 4 chiles on their sides on racks of gas bu...   \n",
       "\n",
       "                                              Image_Name  \\\n",
       "0      miso-butter-roast-chicken-acorn-squash-panzanella   \n",
       "1             crispy-salt-and-pepper-potatoes-dan-kluger   \n",
       "2             thanksgiving-mac-and-cheese-erick-williams   \n",
       "3              italian-sausage-and-bread-stuffing-240559   \n",
       "4                     newtons-law-apple-bourbon-cocktail   \n",
       "...                                                  ...   \n",
       "13482                         brownie-pudding-cake-14408   \n",
       "13483  israeli-couscous-with-roasted-butternut-squash...   \n",
       "13484  rice-with-soy-glazed-bonito-flakes-and-sesame-...   \n",
       "13485                                 spanakopita-107344   \n",
       "13486  mexican-poblano-spinach-and-black-bean-lasagne...   \n",
       "\n",
       "                                     Cleaned_Ingredients  \\\n",
       "0      ['1 (3½–4-lb.) whole chicken', '2¾ tsp. kosher...   \n",
       "1      ['2 large egg whites', '1 pound new potatoes (...   \n",
       "2      ['1 cup evaporated milk', '1 cup whole milk', ...   \n",
       "3      ['1 (¾- to 1-pound) round Italian loaf, cut in...   \n",
       "4      ['1 teaspoon dark brown sugar', '1 teaspoon ho...   \n",
       "...                                                  ...   \n",
       "13482  ['1 cup all-purpose flour', '2/3 cup unsweeten...   \n",
       "13483  ['1 preserved lemon', '1 1/2 pound butternut s...   \n",
       "13484  ['Leftover katsuo bushi (dried bonito flakes) ...   \n",
       "13485  ['1 stick (1/2 cup) plus 1 tablespoon unsalted...   \n",
       "13486  ['12 medium to large fresh poblano chiles (2 1...   \n",
       "\n",
       "                                      Bag_Of_Ingredients  \\\n",
       "0      ['chicken', 'acorn', 'squash', 'sage', 'rosema...   \n",
       "1      ['egg', 'whites', 'new', 'potatoes', 'ground',...   \n",
       "2      ['evaporated', 'milk', 'milk', 'garlic', 'powd...   \n",
       "3      ['round', 'italian', 'loaf', 'olive', 'oil', '...   \n",
       "4      ['dark', 'brown', 'bourbon', 'fresh', 'lemon',...   \n",
       "...                                                  ...   \n",
       "13482  ['allpurpose', 'flour', 'cocoa', 'powder', 'do...   \n",
       "13483  ['preserved', 'lemon', 'butternut', 'squash', ...   \n",
       "13484  ['katsuo', 'bushi', 'dried', 'bonito', 'making...   \n",
       "13485  ['stick', 'butter', 'baby', 'spinach', 'feta',...   \n",
       "13486  ['fresh', 'poblano', 'chiles', 'tomatoes', 'in...   \n",
       "\n",
       "                                             Vector_List  \n",
       "0      [-0.5898466   0.02073149 -0.53710073 -0.151976...  \n",
       "1      [-0.54748815 -0.16237824 -1.0528777  -0.343138...  \n",
       "2      [-0.52484286 -0.8810745  -0.5255319  -0.215986...  \n",
       "3      [-0.3681015  -0.6427576  -0.43515164 -0.150221...  \n",
       "4      [-0.81219363  0.24359411 -0.18961106  0.531014...  \n",
       "...                                                  ...  \n",
       "13482  [-1.0329453  -1.001715   -0.3596381   0.426722...  \n",
       "13483  [-0.48680982  0.00719695 -0.2982681  -0.118580...  \n",
       "13484  [ 0.0806671   0.485026   -0.6581371  -0.027860...  \n",
       "13485  [-0.05527298 -0.27886343 -0.43349215  0.256546...  \n",
       "13486  [-1.01724587e-01  5.08926548e-02 -4.36985910e-...  \n",
       "\n",
       "[13487 rows x 7 columns]"
      ]
     },
     "execution_count": 48,
     "metadata": {},
     "output_type": "execute_result"
    }
   ],
   "source": [
    "pd.read_csv(\"enriched_recipes.csv\")"
   ]
  },
  {
   "cell_type": "code",
   "execution_count": 49,
   "id": "51a8d8cf",
   "metadata": {},
   "outputs": [],
   "source": [
    "df = pd.read_csv(\"enriched_recipes.csv\")\n",
    "df.info()"
   ]
  },
  {
   "cell_type": "code",
   "execution_count": 38,
   "id": "117ea8fe",
   "metadata": {},
   "outputs": [
    {
     "data": {
      "text/html": [
       "<div>\n",
       "<style scoped>\n",
       "    .dataframe tbody tr th:only-of-type {\n",
       "        vertical-align: middle;\n",
       "    }\n",
       "\n",
       "    .dataframe tbody tr th {\n",
       "        vertical-align: top;\n",
       "    }\n",
       "\n",
       "    .dataframe thead th {\n",
       "        text-align: right;\n",
       "    }\n",
       "</style>\n",
       "<table border=\"1\" class=\"dataframe\">\n",
       "  <thead>\n",
       "    <tr style=\"text-align: right;\">\n",
       "      <th></th>\n",
       "      <th>Title</th>\n",
       "      <th>Ingredients</th>\n",
       "      <th>Instructions</th>\n",
       "      <th>Image_Name</th>\n",
       "      <th>Cleaned_Ingredients</th>\n",
       "      <th>Bag_Of_Ingredients</th>\n",
       "      <th>Vector_List</th>\n",
       "    </tr>\n",
       "  </thead>\n",
       "  <tbody>\n",
       "    <tr>\n",
       "      <th>0</th>\n",
       "      <td>Miso-Butter Roast Chicken With Acorn Squash Pa...</td>\n",
       "      <td>['1 (3½–4-lb.) whole chicken', '2¾ tsp. kosher...</td>\n",
       "      <td>Pat chicken dry with paper towels, season all ...</td>\n",
       "      <td>miso-butter-roast-chicken-acorn-squash-panzanella</td>\n",
       "      <td>['1 (3½–4-lb.) whole chicken', '2¾ tsp. kosher...</td>\n",
       "      <td>[chicken, acorn, squash, sage, rosemary, butte...</td>\n",
       "      <td>[-0.51297694, 0.07183955, -0.6375536, -0.05571...</td>\n",
       "    </tr>\n",
       "    <tr>\n",
       "      <th>1</th>\n",
       "      <td>Crispy Salt and Pepper Potatoes</td>\n",
       "      <td>['2 large egg whites', '1 pound new potatoes (...</td>\n",
       "      <td>Preheat oven to 400°F and line a rimmed baking...</td>\n",
       "      <td>crispy-salt-and-pepper-potatoes-dan-kluger</td>\n",
       "      <td>['2 large egg whites', '1 pound new potatoes (...</td>\n",
       "      <td>[egg, whites, new, potatoes, ground, black, pe...</td>\n",
       "      <td>[-0.5134953, -0.25871545, -1.1037347, -0.25271...</td>\n",
       "    </tr>\n",
       "    <tr>\n",
       "      <th>2</th>\n",
       "      <td>Thanksgiving Mac and Cheese</td>\n",
       "      <td>['1 cup evaporated milk', '1 cup whole milk', ...</td>\n",
       "      <td>Place a rack in middle of oven; preheat to 400...</td>\n",
       "      <td>thanksgiving-mac-and-cheese-erick-williams</td>\n",
       "      <td>['1 cup evaporated milk', '1 cup whole milk', ...</td>\n",
       "      <td>[evaporated, milk, milk, garlic, powder, onion...</td>\n",
       "      <td>[-0.4815463, -0.8161572, -0.60633886, -0.22353...</td>\n",
       "    </tr>\n",
       "    <tr>\n",
       "      <th>3</th>\n",
       "      <td>Italian Sausage and Bread Stuffing</td>\n",
       "      <td>['1 (¾- to 1-pound) round Italian loaf, cut in...</td>\n",
       "      <td>Preheat oven to 350°F with rack in middle. Gen...</td>\n",
       "      <td>italian-sausage-and-bread-stuffing-240559</td>\n",
       "      <td>['1 (¾- to 1-pound) round Italian loaf, cut in...</td>\n",
       "      <td>[round, italian, loaf, olive, oil, sweet, ital...</td>\n",
       "      <td>[-0.26339173, -0.56660587, -0.4863101, -0.1177...</td>\n",
       "    </tr>\n",
       "    <tr>\n",
       "      <th>4</th>\n",
       "      <td>Newton's Law</td>\n",
       "      <td>['1 teaspoon dark brown sugar', '1 teaspoon ho...</td>\n",
       "      <td>Stir together brown sugar and hot water in a c...</td>\n",
       "      <td>newtons-law-apple-bourbon-cocktail</td>\n",
       "      <td>['1 teaspoon dark brown sugar', '1 teaspoon ho...</td>\n",
       "      <td>[dark, brown, bourbon, fresh, lemon, juice, ap...</td>\n",
       "      <td>[-0.58673996, 0.29072383, -0.31438676, 0.64146...</td>\n",
       "    </tr>\n",
       "  </tbody>\n",
       "</table>\n",
       "</div>"
      ],
      "text/plain": [
       "                                               Title  \\\n",
       "0  Miso-Butter Roast Chicken With Acorn Squash Pa...   \n",
       "1                    Crispy Salt and Pepper Potatoes   \n",
       "2                        Thanksgiving Mac and Cheese   \n",
       "3                 Italian Sausage and Bread Stuffing   \n",
       "4                                       Newton's Law   \n",
       "\n",
       "                                         Ingredients  \\\n",
       "0  ['1 (3½–4-lb.) whole chicken', '2¾ tsp. kosher...   \n",
       "1  ['2 large egg whites', '1 pound new potatoes (...   \n",
       "2  ['1 cup evaporated milk', '1 cup whole milk', ...   \n",
       "3  ['1 (¾- to 1-pound) round Italian loaf, cut in...   \n",
       "4  ['1 teaspoon dark brown sugar', '1 teaspoon ho...   \n",
       "\n",
       "                                        Instructions  \\\n",
       "0  Pat chicken dry with paper towels, season all ...   \n",
       "1  Preheat oven to 400°F and line a rimmed baking...   \n",
       "2  Place a rack in middle of oven; preheat to 400...   \n",
       "3  Preheat oven to 350°F with rack in middle. Gen...   \n",
       "4  Stir together brown sugar and hot water in a c...   \n",
       "\n",
       "                                          Image_Name  \\\n",
       "0  miso-butter-roast-chicken-acorn-squash-panzanella   \n",
       "1         crispy-salt-and-pepper-potatoes-dan-kluger   \n",
       "2         thanksgiving-mac-and-cheese-erick-williams   \n",
       "3          italian-sausage-and-bread-stuffing-240559   \n",
       "4                 newtons-law-apple-bourbon-cocktail   \n",
       "\n",
       "                                 Cleaned_Ingredients  \\\n",
       "0  ['1 (3½–4-lb.) whole chicken', '2¾ tsp. kosher...   \n",
       "1  ['2 large egg whites', '1 pound new potatoes (...   \n",
       "2  ['1 cup evaporated milk', '1 cup whole milk', ...   \n",
       "3  ['1 (¾- to 1-pound) round Italian loaf, cut in...   \n",
       "4  ['1 teaspoon dark brown sugar', '1 teaspoon ho...   \n",
       "\n",
       "                                  Bag_Of_Ingredients  \\\n",
       "0  [chicken, acorn, squash, sage, rosemary, butte...   \n",
       "1  [egg, whites, new, potatoes, ground, black, pe...   \n",
       "2  [evaporated, milk, milk, garlic, powder, onion...   \n",
       "3  [round, italian, loaf, olive, oil, sweet, ital...   \n",
       "4  [dark, brown, bourbon, fresh, lemon, juice, ap...   \n",
       "\n",
       "                                         Vector_List  \n",
       "0  [-0.51297694, 0.07183955, -0.6375536, -0.05571...  \n",
       "1  [-0.5134953, -0.25871545, -1.1037347, -0.25271...  \n",
       "2  [-0.4815463, -0.8161572, -0.60633886, -0.22353...  \n",
       "3  [-0.26339173, -0.56660587, -0.4863101, -0.1177...  \n",
       "4  [-0.58673996, 0.29072383, -0.31438676, 0.64146...  "
      ]
     },
     "execution_count": 38,
     "metadata": {},
     "output_type": "execute_result"
    }
   ],
   "source": [
    "df.head()"
   ]
  },
  {
   "cell_type": "code",
   "execution_count": 44,
   "id": "605742ec",
   "metadata": {},
   "outputs": [
    {
     "data": {
      "text/html": [
       "<div>\n",
       "<style scoped>\n",
       "    .dataframe tbody tr th:only-of-type {\n",
       "        vertical-align: middle;\n",
       "    }\n",
       "\n",
       "    .dataframe tbody tr th {\n",
       "        vertical-align: top;\n",
       "    }\n",
       "\n",
       "    .dataframe thead th {\n",
       "        text-align: right;\n",
       "    }\n",
       "</style>\n",
       "<table border=\"1\" class=\"dataframe\">\n",
       "  <thead>\n",
       "    <tr style=\"text-align: right;\">\n",
       "      <th></th>\n",
       "      <th>Title</th>\n",
       "      <th>Ingredients</th>\n",
       "      <th>Instructions</th>\n",
       "      <th>Image_Name</th>\n",
       "      <th>Cleaned_Ingredients</th>\n",
       "      <th>Bag_Of_Ingredients</th>\n",
       "      <th>Vector_List</th>\n",
       "    </tr>\n",
       "  </thead>\n",
       "  <tbody>\n",
       "    <tr>\n",
       "      <th>0</th>\n",
       "      <td>Miso-Butter Roast Chicken With Acorn Squash Pa...</td>\n",
       "      <td>['1 (3½–4-lb.) whole chicken', '2¾ tsp. kosher...</td>\n",
       "      <td>Pat chicken dry with paper towels, season all ...</td>\n",
       "      <td>miso-butter-roast-chicken-acorn-squash-panzanella</td>\n",
       "      <td>[1 (3½–4-lb.) whole chicken, 2¾ tsp. kosher sa...</td>\n",
       "      <td>[chicken, acorn, squash, sage, rosemary, butte...</td>\n",
       "      <td>[-0.51297694, 0.07183955, -0.6375536, -0.05571...</td>\n",
       "    </tr>\n",
       "    <tr>\n",
       "      <th>1</th>\n",
       "      <td>Crispy Salt and Pepper Potatoes</td>\n",
       "      <td>['2 large egg whites', '1 pound new potatoes (...</td>\n",
       "      <td>Preheat oven to 400°F and line a rimmed baking...</td>\n",
       "      <td>crispy-salt-and-pepper-potatoes-dan-kluger</td>\n",
       "      <td>[2 large egg whites, 1 pound new potatoes (abo...</td>\n",
       "      <td>[egg, whites, new, potatoes, ground, black, pe...</td>\n",
       "      <td>[-0.5134953, -0.25871545, -1.1037347, -0.25271...</td>\n",
       "    </tr>\n",
       "    <tr>\n",
       "      <th>2</th>\n",
       "      <td>Thanksgiving Mac and Cheese</td>\n",
       "      <td>['1 cup evaporated milk', '1 cup whole milk', ...</td>\n",
       "      <td>Place a rack in middle of oven; preheat to 400...</td>\n",
       "      <td>thanksgiving-mac-and-cheese-erick-williams</td>\n",
       "      <td>[1 cup evaporated milk, 1 cup whole milk, 1 ts...</td>\n",
       "      <td>[evaporated, milk, milk, garlic, powder, onion...</td>\n",
       "      <td>[-0.4815463, -0.8161572, -0.60633886, -0.22353...</td>\n",
       "    </tr>\n",
       "    <tr>\n",
       "      <th>3</th>\n",
       "      <td>Italian Sausage and Bread Stuffing</td>\n",
       "      <td>['1 (¾- to 1-pound) round Italian loaf, cut in...</td>\n",
       "      <td>Preheat oven to 350°F with rack in middle. Gen...</td>\n",
       "      <td>italian-sausage-and-bread-stuffing-240559</td>\n",
       "      <td>[1 (¾- to 1-pound) round Italian loaf, cut int...</td>\n",
       "      <td>[round, italian, loaf, olive, oil, sweet, ital...</td>\n",
       "      <td>[-0.26339173, -0.56660587, -0.4863101, -0.1177...</td>\n",
       "    </tr>\n",
       "    <tr>\n",
       "      <th>4</th>\n",
       "      <td>Newton's Law</td>\n",
       "      <td>['1 teaspoon dark brown sugar', '1 teaspoon ho...</td>\n",
       "      <td>Stir together brown sugar and hot water in a c...</td>\n",
       "      <td>newtons-law-apple-bourbon-cocktail</td>\n",
       "      <td>[1 teaspoon dark brown sugar, 1 teaspoon hot w...</td>\n",
       "      <td>[dark, brown, bourbon, fresh, lemon, juice, ap...</td>\n",
       "      <td>[-0.58673996, 0.29072383, -0.31438676, 0.64146...</td>\n",
       "    </tr>\n",
       "  </tbody>\n",
       "</table>\n",
       "</div>"
      ],
      "text/plain": [
       "                                               Title  \\\n",
       "0  Miso-Butter Roast Chicken With Acorn Squash Pa...   \n",
       "1                    Crispy Salt and Pepper Potatoes   \n",
       "2                        Thanksgiving Mac and Cheese   \n",
       "3                 Italian Sausage and Bread Stuffing   \n",
       "4                                       Newton's Law   \n",
       "\n",
       "                                         Ingredients  \\\n",
       "0  ['1 (3½–4-lb.) whole chicken', '2¾ tsp. kosher...   \n",
       "1  ['2 large egg whites', '1 pound new potatoes (...   \n",
       "2  ['1 cup evaporated milk', '1 cup whole milk', ...   \n",
       "3  ['1 (¾- to 1-pound) round Italian loaf, cut in...   \n",
       "4  ['1 teaspoon dark brown sugar', '1 teaspoon ho...   \n",
       "\n",
       "                                        Instructions  \\\n",
       "0  Pat chicken dry with paper towels, season all ...   \n",
       "1  Preheat oven to 400°F and line a rimmed baking...   \n",
       "2  Place a rack in middle of oven; preheat to 400...   \n",
       "3  Preheat oven to 350°F with rack in middle. Gen...   \n",
       "4  Stir together brown sugar and hot water in a c...   \n",
       "\n",
       "                                          Image_Name  \\\n",
       "0  miso-butter-roast-chicken-acorn-squash-panzanella   \n",
       "1         crispy-salt-and-pepper-potatoes-dan-kluger   \n",
       "2         thanksgiving-mac-and-cheese-erick-williams   \n",
       "3          italian-sausage-and-bread-stuffing-240559   \n",
       "4                 newtons-law-apple-bourbon-cocktail   \n",
       "\n",
       "                                 Cleaned_Ingredients  \\\n",
       "0  [1 (3½–4-lb.) whole chicken, 2¾ tsp. kosher sa...   \n",
       "1  [2 large egg whites, 1 pound new potatoes (abo...   \n",
       "2  [1 cup evaporated milk, 1 cup whole milk, 1 ts...   \n",
       "3  [1 (¾- to 1-pound) round Italian loaf, cut int...   \n",
       "4  [1 teaspoon dark brown sugar, 1 teaspoon hot w...   \n",
       "\n",
       "                                  Bag_Of_Ingredients  \\\n",
       "0  [chicken, acorn, squash, sage, rosemary, butte...   \n",
       "1  [egg, whites, new, potatoes, ground, black, pe...   \n",
       "2  [evaporated, milk, milk, garlic, powder, onion...   \n",
       "3  [round, italian, loaf, olive, oil, sweet, ital...   \n",
       "4  [dark, brown, bourbon, fresh, lemon, juice, ap...   \n",
       "\n",
       "                                         Vector_List  \n",
       "0  [-0.51297694, 0.07183955, -0.6375536, -0.05571...  \n",
       "1  [-0.5134953, -0.25871545, -1.1037347, -0.25271...  \n",
       "2  [-0.4815463, -0.8161572, -0.60633886, -0.22353...  \n",
       "3  [-0.26339173, -0.56660587, -0.4863101, -0.1177...  \n",
       "4  [-0.58673996, 0.29072383, -0.31438676, 0.64146...  "
      ]
     },
     "execution_count": 44,
     "metadata": {},
     "output_type": "execute_result"
    }
   ],
   "source": [
    "df['Cleaned_Ingredients'] = df['Cleaned_Ingredients'].map(basic_clean)\n",
    "df.head()"
   ]
  },
  {
   "cell_type": "code",
   "execution_count": 65,
   "id": "fe3ca5d8",
   "metadata": {},
   "outputs": [
    {
     "data": {
      "text/plain": [
       "['[-0.5898466   0.02073149 -0.53710073 -0.1519763  -0.05711756 -0.3643012\\n  0.63364774  0.1366788  -1.4208388  -0.17863436 -0.3050332  -0.8327853\\n  0.33137238 -0.07907071  0.8323364   0.68850267  0.09860975  0.6430056\\n -0.47808093 -0.13608429 -0.6167259  -0.08885518  1.22265     0.01939588\\n  0.24831413 -0.83429736  0.16900472  0.23019154  0.15554105 -0.07482872\\n  0.3768148  -1.0696874   0.17743587 -0.6641168   0.05560385  0.47798508\\n  0.25784218 -0.13610023 -0.10034835  0.35679555  0.52002305  0.01665337\\n -0.41973525  0.9235495   0.01817545 -0.32925755  0.07564695  0.7459866\\n -1.0240345   0.07601918]']"
      ]
     },
     "execution_count": 65,
     "metadata": {},
     "output_type": "execute_result"
    }
   ],
   "source": [
    "df['Vector_List'][0].split(,)"
   ]
  },
  {
   "cell_type": "code",
   "execution_count": 70,
   "id": "31de3e7c",
   "metadata": {},
   "outputs": [
    {
     "data": {
      "text/plain": [
       "'[-0.52484286 -0.8810745  -0.5255319  -0.2159863   0.68880254 -0.58110255\\n -0.31156036  0.5687985  -0.49775973 -0.30315697 -0.2664029  -0.5486379\\n -0.68393904  0.86849385  0.55454236  1.2077818   0.5630816   0.98394144\\n  0.0662693  -0.01241614  0.05041351 -0.25286943  1.1235436   0.2243772\\n -0.42109892 -0.01167546  0.1026004  -0.19233936 -0.10908606  0.03756882\\n  0.06184037 -0.63469577  0.04251439 -0.77010983 -0.3002165   0.13580422\\n  0.33891827  0.19974972  0.09903928  0.82976764  1.1584439  -0.10799595\\n -0.52165765  0.68951464 -0.21530816  0.12640774  0.7329423   0.14366084\\n -0.40218908 -0.2529481 ]'"
      ]
     },
     "execution_count": 70,
     "metadata": {},
     "output_type": "execute_result"
    }
   ],
   "source": [
    "df['Vector_List'][2]"
   ]
  },
  {
   "cell_type": "code",
   "execution_count": 66,
   "id": "a27c332c",
   "metadata": {},
   "outputs": [
    {
     "data": {
      "text/plain": [
       "['[-0.5898466   0.02073149 -0.53710073 -0.1519763  -0.05711756 -0.3643012\\n  0.63364774  0.1366788  -1.4208388  -0.17863436 -0.3050332  -0.8327853\\n  0.33137238 -0.07907071  0.8323364   0.68850267  0.09860975  0.6430056\\n -0.47808093 -0.13608429 -0.6167259  -0.08885518  1.22265     0.01939588\\n  0.24831413 -0.83429736  0.16900472  0.23019154  0.15554105 -0.07482872\\n  0.3768148  -1.0696874   0.17743587 -0.6641168   0.05560385  0.47798508\\n  0.25784218 -0.13610023 -0.10034835  0.35679555  0.52002305  0.01665337\\n -0.41973525  0.9235495   0.01817545 -0.32925755  0.07564695  0.7459866\\n -1.0240345   0.07601918]']"
      ]
     },
     "execution_count": 66,
     "metadata": {},
     "output_type": "execute_result"
    }
   ],
   "source": [
    "df['Vector_List'][0].split(\",\")"
   ]
  },
  {
   "cell_type": "code",
   "execution_count": null,
   "id": "84f451cb",
   "metadata": {},
   "outputs": [],
   "source": [
    "\n",
    "            #loading clean dataframe of recipes\n",
    "\n",
    "            # df = load_clean_data(additional=True)\n",
    "\n",
    "            # #using search function to find no.1 matching recipe\n",
    "            # top_recipes = shortlist_recipes(df, output, df.index)\n",
    "            # no_1 = top_recipes[0][0]\n",
    "            # title = df.loc[no_1, 'Title']\n",
    "            # ingredients = df.loc[no_1, 'Cleaned_Ingredients']\n",
    "            # instructions = df.loc[no_1, 'Instructions']\n",
    "\n",
    "            # #printing no.1 recipe (title, ingredients and instructions)\n",
    "            # st.write(f'{title}')\n",
    "            # st.write(f'Ingredients: {ingredients}')\n",
    "            # st.write('Instructions')\n",
    "            # st.write(f'{instructions}')\n",
    "\n",
    "            # Load clean data to train Word2Vec model\n",
    "\n",
    "            # Get similar matches and output top 15 results\n",
    "            matches_df = model.get_similar_recipes(output, model_df, 15)\n",
    "            results_df = matches_df[['Title','Cleaned_Ingredients']].copy()\n",
    "            results_df.reset_index(inplace= True)\n",
    "\n",
    "            # Create slider to allow the user to select the number of results\n",
    "            # in the results dataframe\n",
    "            results_count = st.slider('Select number of results', 1, 15, 5)\n",
    "\n",
    "            # and used in order to select the displayed lines\n",
    "            results_df = results_df.head(results_count)\n",
    "\n",
    "            results_df"
   ]
  }
 ],
 "metadata": {
  "kernelspec": {
   "display_name": "Python 3 (ipykernel)",
   "language": "python",
   "name": "python3"
  },
  "language_info": {
   "codemirror_mode": {
    "name": "ipython",
    "version": 3
   },
   "file_extension": ".py",
   "mimetype": "text/x-python",
   "name": "python",
   "nbconvert_exporter": "python",
   "pygments_lexer": "ipython3",
   "version": "3.8.13"
  },
  "toc": {
   "base_numbering": 1,
   "nav_menu": {},
   "number_sections": true,
   "sideBar": true,
   "skip_h1_title": false,
   "title_cell": "Table of Contents",
   "title_sidebar": "Contents",
   "toc_cell": false,
   "toc_position": {},
   "toc_section_display": true,
   "toc_window_display": false
  }
 },
 "nbformat": 4,
 "nbformat_minor": 5
}

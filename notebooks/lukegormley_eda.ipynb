{
 "cells": [
  {
   "cell_type": "code",
   "execution_count": 1,
   "id": "465952ea",
   "metadata": {},
   "outputs": [],
   "source": [
    "import pandas as pd"
   ]
  },
  {
   "cell_type": "code",
   "execution_count": 2,
   "id": "f360e477",
   "metadata": {},
   "outputs": [
    {
     "data": {
      "text/html": [
       "<div>\n",
       "<style scoped>\n",
       "    .dataframe tbody tr th:only-of-type {\n",
       "        vertical-align: middle;\n",
       "    }\n",
       "\n",
       "    .dataframe tbody tr th {\n",
       "        vertical-align: top;\n",
       "    }\n",
       "\n",
       "    .dataframe thead th {\n",
       "        text-align: right;\n",
       "    }\n",
       "</style>\n",
       "<table border=\"1\" class=\"dataframe\">\n",
       "  <thead>\n",
       "    <tr style=\"text-align: right;\">\n",
       "      <th></th>\n",
       "      <th>Title</th>\n",
       "      <th>Ingredients</th>\n",
       "      <th>Instructions</th>\n",
       "      <th>Image_Name</th>\n",
       "      <th>Cleaned_Ingredients</th>\n",
       "    </tr>\n",
       "  </thead>\n",
       "  <tbody>\n",
       "    <tr>\n",
       "      <th>0</th>\n",
       "      <td>Miso-Butter Roast Chicken With Acorn Squash Pa...</td>\n",
       "      <td>['1 (3½–4-lb.) whole chicken', '2¾ tsp. kosher...</td>\n",
       "      <td>Pat chicken dry with paper towels, season all ...</td>\n",
       "      <td>miso-butter-roast-chicken-acorn-squash-panzanella</td>\n",
       "      <td>['1 (3½–4-lb.) whole chicken', '2¾ tsp. kosher...</td>\n",
       "    </tr>\n",
       "    <tr>\n",
       "      <th>1</th>\n",
       "      <td>Crispy Salt and Pepper Potatoes</td>\n",
       "      <td>['2 large egg whites', '1 pound new potatoes (...</td>\n",
       "      <td>Preheat oven to 400°F and line a rimmed baking...</td>\n",
       "      <td>crispy-salt-and-pepper-potatoes-dan-kluger</td>\n",
       "      <td>['2 large egg whites', '1 pound new potatoes (...</td>\n",
       "    </tr>\n",
       "    <tr>\n",
       "      <th>2</th>\n",
       "      <td>Thanksgiving Mac and Cheese</td>\n",
       "      <td>['1 cup evaporated milk', '1 cup whole milk', ...</td>\n",
       "      <td>Place a rack in middle of oven; preheat to 400...</td>\n",
       "      <td>thanksgiving-mac-and-cheese-erick-williams</td>\n",
       "      <td>['1 cup evaporated milk', '1 cup whole milk', ...</td>\n",
       "    </tr>\n",
       "    <tr>\n",
       "      <th>3</th>\n",
       "      <td>Italian Sausage and Bread Stuffing</td>\n",
       "      <td>['1 (¾- to 1-pound) round Italian loaf, cut in...</td>\n",
       "      <td>Preheat oven to 350°F with rack in middle. Gen...</td>\n",
       "      <td>italian-sausage-and-bread-stuffing-240559</td>\n",
       "      <td>['1 (¾- to 1-pound) round Italian loaf, cut in...</td>\n",
       "    </tr>\n",
       "    <tr>\n",
       "      <th>4</th>\n",
       "      <td>Newton's Law</td>\n",
       "      <td>['1 teaspoon dark brown sugar', '1 teaspoon ho...</td>\n",
       "      <td>Stir together brown sugar and hot water in a c...</td>\n",
       "      <td>newtons-law-apple-bourbon-cocktail</td>\n",
       "      <td>['1 teaspoon dark brown sugar', '1 teaspoon ho...</td>\n",
       "    </tr>\n",
       "  </tbody>\n",
       "</table>\n",
       "</div>"
      ],
      "text/plain": [
       "                                               Title  \\\n",
       "0  Miso-Butter Roast Chicken With Acorn Squash Pa...   \n",
       "1                    Crispy Salt and Pepper Potatoes   \n",
       "2                        Thanksgiving Mac and Cheese   \n",
       "3                 Italian Sausage and Bread Stuffing   \n",
       "4                                       Newton's Law   \n",
       "\n",
       "                                         Ingredients  \\\n",
       "0  ['1 (3½–4-lb.) whole chicken', '2¾ tsp. kosher...   \n",
       "1  ['2 large egg whites', '1 pound new potatoes (...   \n",
       "2  ['1 cup evaporated milk', '1 cup whole milk', ...   \n",
       "3  ['1 (¾- to 1-pound) round Italian loaf, cut in...   \n",
       "4  ['1 teaspoon dark brown sugar', '1 teaspoon ho...   \n",
       "\n",
       "                                        Instructions  \\\n",
       "0  Pat chicken dry with paper towels, season all ...   \n",
       "1  Preheat oven to 400°F and line a rimmed baking...   \n",
       "2  Place a rack in middle of oven; preheat to 400...   \n",
       "3  Preheat oven to 350°F with rack in middle. Gen...   \n",
       "4  Stir together brown sugar and hot water in a c...   \n",
       "\n",
       "                                          Image_Name  \\\n",
       "0  miso-butter-roast-chicken-acorn-squash-panzanella   \n",
       "1         crispy-salt-and-pepper-potatoes-dan-kluger   \n",
       "2         thanksgiving-mac-and-cheese-erick-williams   \n",
       "3          italian-sausage-and-bread-stuffing-240559   \n",
       "4                 newtons-law-apple-bourbon-cocktail   \n",
       "\n",
       "                                 Cleaned_Ingredients  \n",
       "0  ['1 (3½–4-lb.) whole chicken', '2¾ tsp. kosher...  \n",
       "1  ['2 large egg whites', '1 pound new potatoes (...  \n",
       "2  ['1 cup evaporated milk', '1 cup whole milk', ...  \n",
       "3  ['1 (¾- to 1-pound) round Italian loaf, cut in...  \n",
       "4  ['1 teaspoon dark brown sugar', '1 teaspoon ho...  "
      ]
     },
     "execution_count": 2,
     "metadata": {},
     "output_type": "execute_result"
    }
   ],
   "source": [
    "path = '../raw_data/Food Ingredients and Recipe Dataset with Image Name Mapping.csv'\n",
    "df = pd.read_csv(path)\n",
    "df.drop(columns='Unnamed: 0', inplace=True)\n",
    "df.head(5)"
   ]
  },
  {
   "cell_type": "code",
   "execution_count": 3,
   "id": "6601d455",
   "metadata": {},
   "outputs": [],
   "source": [
    "df['same'] = df.Ingredients == df.Cleaned_Ingredients"
   ]
  },
  {
   "cell_type": "code",
   "execution_count": 4,
   "id": "84ea4308",
   "metadata": {},
   "outputs": [
    {
     "data": {
      "text/plain": [
       "True     9660\n",
       "False    3841\n",
       "Name: same, dtype: int64"
      ]
     },
     "execution_count": 4,
     "metadata": {},
     "output_type": "execute_result"
    }
   ],
   "source": [
    "df.same.value_counts()"
   ]
  },
  {
   "cell_type": "code",
   "execution_count": 5,
   "id": "974d5c07",
   "metadata": {},
   "outputs": [],
   "source": [
    "cleaned_df = df[df.same == False]"
   ]
  },
  {
   "cell_type": "code",
   "execution_count": 6,
   "id": "5ecd8048",
   "metadata": {},
   "outputs": [
    {
     "data": {
      "text/plain": [
       "'[\\'1 (3½–4-lb.) whole chicken\\', \\'2¾ tsp. kosher salt, divided, plus more\\', \\'2 small acorn squash (about 3 lb. total)\\', \\'2 Tbsp. finely chopped sage\\', \\'1 Tbsp. finely chopped rosemary\\', \\'6 Tbsp. unsalted butter, melted, plus 3 Tbsp. room temperature\\', \\'¼ tsp. ground allspice\\', \\'Pinch of crushed red pepper flakes\\', \\'Freshly ground black pepper\\', \\'⅓ loaf good-quality sturdy white bread, torn into 1\" pieces (about 2½ cups)\\', \\'2 medium apples (such as Gala or Pink Lady; about 14 oz. total), cored, cut into 1\" pieces\\', \\'2 Tbsp. extra-virgin olive oil\\', \\'½ small red onion, thinly sliced\\', \\'3 Tbsp. apple cider vinegar\\', \\'1 Tbsp. white miso\\', \\'¼ cup all-purpose flour\\', \\'2 Tbsp. unsalted butter, room temperature\\', \\'¼ cup dry white wine\\', \\'2 cups unsalted chicken broth\\', \\'2 tsp. white miso\\', \\'Kosher salt, freshly ground pepper\\']'"
      ]
     },
     "execution_count": 6,
     "metadata": {},
     "output_type": "execute_result"
    }
   ],
   "source": [
    "cleaned_df.Ingredients[0]"
   ]
  },
  {
   "cell_type": "code",
   "execution_count": 7,
   "id": "10f29e1b",
   "metadata": {},
   "outputs": [
    {
     "data": {
      "text/plain": [
       "'[\\'1 (3½–4-lb.) whole chicken\\', \\'2¾ tsp. kosher salt, divided, plus more\\', \\'2 small acorn squash (about 3 lb. total)\\', \\'2 Tbsp. finely chopped sage\\', \\'1 Tbsp. finely chopped rosemary\\', \\'6 Tbsp. unsalted butter, melted, plus 3 Tbsp. room temperature\\', \\'¼ tsp. ground allspice\\', \\'Pinch of crushed red pepper flakes\\', \\'Freshly ground black pepper\\', \\'⅓ loaf good-quality sturdy white bread, torn into 1\" pieces (about 2½ cups)\\', \\'2 medium apples (such as Gala or Pink Lady; about 14 oz. total), cored, cut into 1\" pieces\\', \\'2 Tbsp. extra-virgin olive oil\\', \\'½ small red onion, thinly sliced\\', \\'3 Tbsp. apple cider vinegar\\', \\'1 Tbsp. white miso\\', \\'¼ cup all-purpose flour\\', \\'2 Tbsp. unsalted butter, room temperature\\', \\'¼ cup dry white wine\\', \\'2 cups unsalted chicken broth\\', \\'2 tsp. white miso\\', \\'Kosher salt\\', \\'freshly ground pepper\\']'"
      ]
     },
     "execution_count": 7,
     "metadata": {},
     "output_type": "execute_result"
    }
   ],
   "source": [
    "cleaned_df.Cleaned_Ingredients[0]"
   ]
  },
  {
   "cell_type": "code",
   "execution_count": 8,
   "id": "fce19d5d",
   "metadata": {},
   "outputs": [],
   "source": [
    "import string\n",
    "\n",
    "def clean_list(ingredient_list):\n",
    "    '''function to clean ingredints list'''\n",
    "    \n",
    "    # importing list of punctuations to be removed from ingredient list\n",
    "    punctuation = string.punctuation\n",
    "    \n",
    "    # break string into list of individual items\n",
    "    ingredient_list = ingredient_list.split(\"', \\'\")\n",
    "\n",
    "    # iterate through each item in list to remove punctuation, non alpha characters and excess whitespace\n",
    "    for i in range(len(ingredient_list)):\n",
    "        for punc in punctuation:\n",
    "            ingredient_list[i] = ingredient_list[i].replace(punc, '')\n",
    "        ingredient_list[i] = ''.join(char for char in ingredient_list[i] if char.isalpha() or char == ' ')\n",
    "        ingredient_list[i] = ingredient_list[i].strip()\n",
    "        ingredient_list[i] = ingredient_list[i].replace('  ', ' ')\n",
    "\n",
    "    return ingredient_list"
   ]
  },
  {
   "cell_type": "code",
   "execution_count": 9,
   "id": "71178791",
   "metadata": {},
   "outputs": [],
   "source": [
    "df['Cleaned_Ingredients_v2'] = df.Cleaned_Ingredients.map(clean_list)"
   ]
  },
  {
   "cell_type": "code",
   "execution_count": 10,
   "id": "cd63d80a",
   "metadata": {},
   "outputs": [
    {
     "data": {
      "text/plain": [
       "['cup evaporated milk',\n",
       " 'cup whole milk',\n",
       " 'tsp garlic powder',\n",
       " 'tsp onion powder',\n",
       " 'tsp smoked paprika',\n",
       " 'tsp freshly ground black pepper',\n",
       " 'tsp kosher salt plus more',\n",
       " 'lb extrasharp cheddar coarsely grated',\n",
       " 'oz fullfat cream cheese',\n",
       " 'lb elbow macaroni']"
      ]
     },
     "execution_count": 10,
     "metadata": {},
     "output_type": "execute_result"
    }
   ],
   "source": [
    "df['Cleaned_Ingredients_v2'][2]"
   ]
  },
  {
   "cell_type": "code",
   "execution_count": 11,
   "id": "8471f030",
   "metadata": {},
   "outputs": [
    {
     "data": {
      "text/html": [
       "<div>\n",
       "<style scoped>\n",
       "    .dataframe tbody tr th:only-of-type {\n",
       "        vertical-align: middle;\n",
       "    }\n",
       "\n",
       "    .dataframe tbody tr th {\n",
       "        vertical-align: top;\n",
       "    }\n",
       "\n",
       "    .dataframe thead th {\n",
       "        text-align: right;\n",
       "    }\n",
       "</style>\n",
       "<table border=\"1\" class=\"dataframe\">\n",
       "  <thead>\n",
       "    <tr style=\"text-align: right;\">\n",
       "      <th></th>\n",
       "      <th>0</th>\n",
       "    </tr>\n",
       "    <tr>\n",
       "      <th>0</th>\n",
       "      <th></th>\n",
       "    </tr>\n",
       "  </thead>\n",
       "  <tbody>\n",
       "    <tr>\n",
       "      <th>cup</th>\n",
       "      <td>29468</td>\n",
       "    </tr>\n",
       "    <tr>\n",
       "      <th>teaspoon</th>\n",
       "      <td>16036</td>\n",
       "    </tr>\n",
       "    <tr>\n",
       "      <th>tablespoons</th>\n",
       "      <td>15822</td>\n",
       "    </tr>\n",
       "    <tr>\n",
       "      <th>or</th>\n",
       "      <td>12506</td>\n",
       "    </tr>\n",
       "    <tr>\n",
       "      <th>chopped</th>\n",
       "      <td>12004</td>\n",
       "    </tr>\n",
       "    <tr>\n",
       "      <th>...</th>\n",
       "      <td>...</td>\n",
       "    </tr>\n",
       "    <tr>\n",
       "      <th>leavesplus</th>\n",
       "      <td>1</td>\n",
       "    </tr>\n",
       "    <tr>\n",
       "      <th>Reblochon</th>\n",
       "      <td>1</td>\n",
       "    </tr>\n",
       "    <tr>\n",
       "      <th>lebneh</th>\n",
       "      <td>1</td>\n",
       "    </tr>\n",
       "    <tr>\n",
       "      <th>RealFruit</th>\n",
       "      <td>1</td>\n",
       "    </tr>\n",
       "    <tr>\n",
       "      <th>nationwide</th>\n",
       "      <td>1</td>\n",
       "    </tr>\n",
       "  </tbody>\n",
       "</table>\n",
       "<p>9565 rows × 1 columns</p>\n",
       "</div>"
      ],
      "text/plain": [
       "                 0\n",
       "0                 \n",
       "cup          29468\n",
       "teaspoon     16036\n",
       "tablespoons  15822\n",
       "or           12506\n",
       "chopped      12004\n",
       "...            ...\n",
       "leavesplus       1\n",
       "Reblochon        1\n",
       "lebneh           1\n",
       "RealFruit        1\n",
       "nationwide       1\n",
       "\n",
       "[9565 rows x 1 columns]"
      ]
     },
     "execution_count": 11,
     "metadata": {},
     "output_type": "execute_result"
    }
   ],
   "source": [
    "word_ls = []\n",
    "for i in range(len(df)):\n",
    "    ingredient_list = df.loc[i, 'Cleaned_Ingredients_v2']\n",
    "    for item in ingredient_list:\n",
    "        sub_list = item.split(' ')\n",
    "        word_ls += sub_list\n",
    "        \n",
    "word_ls_df = pd.DataFrame(word_ls)\n",
    "word_ls_df = pd.DataFrame(word_ls_df.value_counts())\n",
    "word_ls_df"
   ]
  }
 ],
 "metadata": {
  "kernelspec": {
   "display_name": "Python 3 (ipykernel)",
   "language": "python",
   "name": "python3"
  },
  "language_info": {
   "codemirror_mode": {
    "name": "ipython",
    "version": 3
   },
   "file_extension": ".py",
   "mimetype": "text/x-python",
   "name": "python",
   "nbconvert_exporter": "python",
   "pygments_lexer": "ipython3",
   "version": "3.8.12"
  },
  "toc": {
   "base_numbering": 1,
   "nav_menu": {},
   "number_sections": true,
   "sideBar": true,
   "skip_h1_title": false,
   "title_cell": "Table of Contents",
   "title_sidebar": "Contents",
   "toc_cell": false,
   "toc_position": {},
   "toc_section_display": true,
   "toc_window_display": false
  }
 },
 "nbformat": 4,
 "nbformat_minor": 5
}

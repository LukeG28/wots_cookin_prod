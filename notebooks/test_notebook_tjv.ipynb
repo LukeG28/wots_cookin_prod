{
 "cells": [
  {
   "cell_type": "markdown",
   "id": "ee608ff6",
   "metadata": {},
   "source": [
    "# Data Exploration of Recipes Dataset"
   ]
  },
  {
   "cell_type": "code",
   "execution_count": 1,
   "id": "7326f497",
   "metadata": {},
   "outputs": [],
   "source": [
    "# Imports\n",
    "import pandas as pd\n",
    "from sklearn.feature_extraction.text import CountVectorizer\n",
    "import string\n",
    "from nltk.corpus import stopwords \n",
    "from nltk.tokenize import word_tokenize\n",
    "import numpy as np\n",
    "\n",
    "\n",
    "import gensim \n",
    "from gensim.models import word2vec, phrases\n",
    "from gensim.parsing.preprocessing import remove_stopwords, strip_punctuation, strip_numeric,\\\n",
    "                    strip_non_alphanum, strip_multiple_whitespaces, strip_short"
   ]
  },
  {
   "cell_type": "code",
   "execution_count": 2,
   "id": "8fa9e660",
   "metadata": {},
   "outputs": [],
   "source": [
    "# Loading the data\n",
    "file = \"../raw_data/recipes.csv\"\n",
    "recipes_df = pd.read_csv(file)\n",
    "\n",
    "custom_stopwords_df = pd.read_csv(\"custom_stopwords.csv\")\n",
    "custom_stopwords = list(custom_stopwords_df['custom_stopwords'])"
   ]
  },
  {
   "cell_type": "markdown",
   "id": "202431d8",
   "metadata": {},
   "source": [
    "## Data sanity checks"
   ]
  },
  {
   "cell_type": "code",
   "execution_count": 3,
   "id": "af64659d",
   "metadata": {
    "scrolled": true
   },
   "outputs": [
    {
     "data": {
      "text/html": [
       "<div>\n",
       "<style scoped>\n",
       "    .dataframe tbody tr th:only-of-type {\n",
       "        vertical-align: middle;\n",
       "    }\n",
       "\n",
       "    .dataframe tbody tr th {\n",
       "        vertical-align: top;\n",
       "    }\n",
       "\n",
       "    .dataframe thead th {\n",
       "        text-align: right;\n",
       "    }\n",
       "</style>\n",
       "<table border=\"1\" class=\"dataframe\">\n",
       "  <thead>\n",
       "    <tr style=\"text-align: right;\">\n",
       "      <th></th>\n",
       "      <th>Unnamed: 0</th>\n",
       "    </tr>\n",
       "  </thead>\n",
       "  <tbody>\n",
       "    <tr>\n",
       "      <th>count</th>\n",
       "      <td>13501.000000</td>\n",
       "    </tr>\n",
       "    <tr>\n",
       "      <th>mean</th>\n",
       "      <td>6750.000000</td>\n",
       "    </tr>\n",
       "    <tr>\n",
       "      <th>std</th>\n",
       "      <td>3897.547327</td>\n",
       "    </tr>\n",
       "    <tr>\n",
       "      <th>min</th>\n",
       "      <td>0.000000</td>\n",
       "    </tr>\n",
       "    <tr>\n",
       "      <th>25%</th>\n",
       "      <td>3375.000000</td>\n",
       "    </tr>\n",
       "    <tr>\n",
       "      <th>50%</th>\n",
       "      <td>6750.000000</td>\n",
       "    </tr>\n",
       "    <tr>\n",
       "      <th>75%</th>\n",
       "      <td>10125.000000</td>\n",
       "    </tr>\n",
       "    <tr>\n",
       "      <th>max</th>\n",
       "      <td>13500.000000</td>\n",
       "    </tr>\n",
       "  </tbody>\n",
       "</table>\n",
       "</div>"
      ],
      "text/plain": [
       "         Unnamed: 0\n",
       "count  13501.000000\n",
       "mean    6750.000000\n",
       "std     3897.547327\n",
       "min        0.000000\n",
       "25%     3375.000000\n",
       "50%     6750.000000\n",
       "75%    10125.000000\n",
       "max    13500.000000"
      ]
     },
     "execution_count": 3,
     "metadata": {},
     "output_type": "execute_result"
    }
   ],
   "source": [
    "recipes_df.describe()"
   ]
  },
  {
   "cell_type": "code",
   "execution_count": 4,
   "id": "c056f249",
   "metadata": {},
   "outputs": [
    {
     "name": "stdout",
     "output_type": "stream",
     "text": [
      "<class 'pandas.core.frame.DataFrame'>\n",
      "RangeIndex: 13501 entries, 0 to 13500\n",
      "Data columns (total 6 columns):\n",
      " #   Column               Non-Null Count  Dtype \n",
      "---  ------               --------------  ----- \n",
      " 0   Unnamed: 0           13501 non-null  int64 \n",
      " 1   Title                13496 non-null  object\n",
      " 2   Ingredients          13501 non-null  object\n",
      " 3   Instructions         13493 non-null  object\n",
      " 4   Image_Name           13501 non-null  object\n",
      " 5   Cleaned_Ingredients  13501 non-null  object\n",
      "dtypes: int64(1), object(5)\n",
      "memory usage: 633.0+ KB\n"
     ]
    }
   ],
   "source": [
    "recipes_df.info()"
   ]
  },
  {
   "cell_type": "code",
   "execution_count": 5,
   "id": "2a215281",
   "metadata": {},
   "outputs": [
    {
     "data": {
      "text/html": [
       "<div>\n",
       "<style scoped>\n",
       "    .dataframe tbody tr th:only-of-type {\n",
       "        vertical-align: middle;\n",
       "    }\n",
       "\n",
       "    .dataframe tbody tr th {\n",
       "        vertical-align: top;\n",
       "    }\n",
       "\n",
       "    .dataframe thead th {\n",
       "        text-align: right;\n",
       "    }\n",
       "</style>\n",
       "<table border=\"1\" class=\"dataframe\">\n",
       "  <thead>\n",
       "    <tr style=\"text-align: right;\">\n",
       "      <th></th>\n",
       "      <th>Unnamed: 0</th>\n",
       "      <th>Title</th>\n",
       "      <th>Ingredients</th>\n",
       "      <th>Instructions</th>\n",
       "      <th>Image_Name</th>\n",
       "      <th>Cleaned_Ingredients</th>\n",
       "    </tr>\n",
       "  </thead>\n",
       "  <tbody>\n",
       "    <tr>\n",
       "      <th>0</th>\n",
       "      <td>0</td>\n",
       "      <td>Miso-Butter Roast Chicken With Acorn Squash Pa...</td>\n",
       "      <td>['1 (3½–4-lb.) whole chicken', '2¾ tsp. kosher...</td>\n",
       "      <td>Pat chicken dry with paper towels, season all ...</td>\n",
       "      <td>miso-butter-roast-chicken-acorn-squash-panzanella</td>\n",
       "      <td>['1 (3½–4-lb.) whole chicken', '2¾ tsp. kosher...</td>\n",
       "    </tr>\n",
       "    <tr>\n",
       "      <th>1</th>\n",
       "      <td>1</td>\n",
       "      <td>Crispy Salt and Pepper Potatoes</td>\n",
       "      <td>['2 large egg whites', '1 pound new potatoes (...</td>\n",
       "      <td>Preheat oven to 400°F and line a rimmed baking...</td>\n",
       "      <td>crispy-salt-and-pepper-potatoes-dan-kluger</td>\n",
       "      <td>['2 large egg whites', '1 pound new potatoes (...</td>\n",
       "    </tr>\n",
       "    <tr>\n",
       "      <th>2</th>\n",
       "      <td>2</td>\n",
       "      <td>Thanksgiving Mac and Cheese</td>\n",
       "      <td>['1 cup evaporated milk', '1 cup whole milk', ...</td>\n",
       "      <td>Place a rack in middle of oven; preheat to 400...</td>\n",
       "      <td>thanksgiving-mac-and-cheese-erick-williams</td>\n",
       "      <td>['1 cup evaporated milk', '1 cup whole milk', ...</td>\n",
       "    </tr>\n",
       "    <tr>\n",
       "      <th>3</th>\n",
       "      <td>3</td>\n",
       "      <td>Italian Sausage and Bread Stuffing</td>\n",
       "      <td>['1 (¾- to 1-pound) round Italian loaf, cut in...</td>\n",
       "      <td>Preheat oven to 350°F with rack in middle. Gen...</td>\n",
       "      <td>italian-sausage-and-bread-stuffing-240559</td>\n",
       "      <td>['1 (¾- to 1-pound) round Italian loaf, cut in...</td>\n",
       "    </tr>\n",
       "    <tr>\n",
       "      <th>4</th>\n",
       "      <td>4</td>\n",
       "      <td>Newton's Law</td>\n",
       "      <td>['1 teaspoon dark brown sugar', '1 teaspoon ho...</td>\n",
       "      <td>Stir together brown sugar and hot water in a c...</td>\n",
       "      <td>newtons-law-apple-bourbon-cocktail</td>\n",
       "      <td>['1 teaspoon dark brown sugar', '1 teaspoon ho...</td>\n",
       "    </tr>\n",
       "  </tbody>\n",
       "</table>\n",
       "</div>"
      ],
      "text/plain": [
       "   Unnamed: 0                                              Title  \\\n",
       "0           0  Miso-Butter Roast Chicken With Acorn Squash Pa...   \n",
       "1           1                    Crispy Salt and Pepper Potatoes   \n",
       "2           2                        Thanksgiving Mac and Cheese   \n",
       "3           3                 Italian Sausage and Bread Stuffing   \n",
       "4           4                                       Newton's Law   \n",
       "\n",
       "                                         Ingredients  \\\n",
       "0  ['1 (3½–4-lb.) whole chicken', '2¾ tsp. kosher...   \n",
       "1  ['2 large egg whites', '1 pound new potatoes (...   \n",
       "2  ['1 cup evaporated milk', '1 cup whole milk', ...   \n",
       "3  ['1 (¾- to 1-pound) round Italian loaf, cut in...   \n",
       "4  ['1 teaspoon dark brown sugar', '1 teaspoon ho...   \n",
       "\n",
       "                                        Instructions  \\\n",
       "0  Pat chicken dry with paper towels, season all ...   \n",
       "1  Preheat oven to 400°F and line a rimmed baking...   \n",
       "2  Place a rack in middle of oven; preheat to 400...   \n",
       "3  Preheat oven to 350°F with rack in middle. Gen...   \n",
       "4  Stir together brown sugar and hot water in a c...   \n",
       "\n",
       "                                          Image_Name  \\\n",
       "0  miso-butter-roast-chicken-acorn-squash-panzanella   \n",
       "1         crispy-salt-and-pepper-potatoes-dan-kluger   \n",
       "2         thanksgiving-mac-and-cheese-erick-williams   \n",
       "3          italian-sausage-and-bread-stuffing-240559   \n",
       "4                 newtons-law-apple-bourbon-cocktail   \n",
       "\n",
       "                                 Cleaned_Ingredients  \n",
       "0  ['1 (3½–4-lb.) whole chicken', '2¾ tsp. kosher...  \n",
       "1  ['2 large egg whites', '1 pound new potatoes (...  \n",
       "2  ['1 cup evaporated milk', '1 cup whole milk', ...  \n",
       "3  ['1 (¾- to 1-pound) round Italian loaf, cut in...  \n",
       "4  ['1 teaspoon dark brown sugar', '1 teaspoon ho...  "
      ]
     },
     "execution_count": 5,
     "metadata": {},
     "output_type": "execute_result"
    }
   ],
   "source": [
    "recipes_df.head()"
   ]
  },
  {
   "cell_type": "markdown",
   "id": "f34e9a8b",
   "metadata": {},
   "source": [
    "## Checking for nulls and na"
   ]
  },
  {
   "cell_type": "code",
   "execution_count": 6,
   "id": "1e182531",
   "metadata": {},
   "outputs": [
    {
     "data": {
      "text/plain": [
       "Unnamed: 0             0\n",
       "Title                  5\n",
       "Ingredients            0\n",
       "Instructions           8\n",
       "Image_Name             0\n",
       "Cleaned_Ingredients    0\n",
       "dtype: int64"
      ]
     },
     "execution_count": 6,
     "metadata": {},
     "output_type": "execute_result"
    }
   ],
   "source": [
    "recipes_df.isna().sum()"
   ]
  },
  {
   "cell_type": "code",
   "execution_count": 7,
   "id": "cb0f6999",
   "metadata": {},
   "outputs": [
    {
     "data": {
      "text/html": [
       "<div>\n",
       "<style scoped>\n",
       "    .dataframe tbody tr th:only-of-type {\n",
       "        vertical-align: middle;\n",
       "    }\n",
       "\n",
       "    .dataframe tbody tr th {\n",
       "        vertical-align: top;\n",
       "    }\n",
       "\n",
       "    .dataframe thead th {\n",
       "        text-align: right;\n",
       "    }\n",
       "</style>\n",
       "<table border=\"1\" class=\"dataframe\">\n",
       "  <thead>\n",
       "    <tr style=\"text-align: right;\">\n",
       "      <th></th>\n",
       "      <th>Unnamed: 0</th>\n",
       "      <th>Title</th>\n",
       "      <th>Ingredients</th>\n",
       "      <th>Instructions</th>\n",
       "      <th>Image_Name</th>\n",
       "      <th>Cleaned_Ingredients</th>\n",
       "    </tr>\n",
       "  </thead>\n",
       "  <tbody>\n",
       "    <tr>\n",
       "      <th>11221</th>\n",
       "      <td>11221</td>\n",
       "      <td>NaN</td>\n",
       "      <td>[]</td>\n",
       "      <td>NaN</td>\n",
       "      <td>roasted-game-hens-with-caramelized-root-vegeta...</td>\n",
       "      <td>['']</td>\n",
       "    </tr>\n",
       "    <tr>\n",
       "      <th>12373</th>\n",
       "      <td>12373</td>\n",
       "      <td>NaN</td>\n",
       "      <td>[]</td>\n",
       "      <td>NaN</td>\n",
       "      <td>chicken-soup-with-rice-232605</td>\n",
       "      <td>['']</td>\n",
       "    </tr>\n",
       "    <tr>\n",
       "      <th>12378</th>\n",
       "      <td>12378</td>\n",
       "      <td>NaN</td>\n",
       "      <td>[]</td>\n",
       "      <td>NaN</td>\n",
       "      <td>double-lemon-bars-232572</td>\n",
       "      <td>['']</td>\n",
       "    </tr>\n",
       "    <tr>\n",
       "      <th>12818</th>\n",
       "      <td>12818</td>\n",
       "      <td>NaN</td>\n",
       "      <td>[]</td>\n",
       "      <td>NaN</td>\n",
       "      <td>pear-and-frangipane-crostata-with-raspberry-vi...</td>\n",
       "      <td>['']</td>\n",
       "    </tr>\n",
       "    <tr>\n",
       "      <th>12829</th>\n",
       "      <td>12829</td>\n",
       "      <td>NaN</td>\n",
       "      <td>[]</td>\n",
       "      <td>NaN</td>\n",
       "      <td>hazelnut-shortbread-sticks-231311</td>\n",
       "      <td>['']</td>\n",
       "    </tr>\n",
       "  </tbody>\n",
       "</table>\n",
       "</div>"
      ],
      "text/plain": [
       "       Unnamed: 0 Title Ingredients Instructions  \\\n",
       "11221       11221   NaN          []          NaN   \n",
       "12373       12373   NaN          []          NaN   \n",
       "12378       12378   NaN          []          NaN   \n",
       "12818       12818   NaN          []          NaN   \n",
       "12829       12829   NaN          []          NaN   \n",
       "\n",
       "                                              Image_Name Cleaned_Ingredients  \n",
       "11221  roasted-game-hens-with-caramelized-root-vegeta...                ['']  \n",
       "12373                      chicken-soup-with-rice-232605                ['']  \n",
       "12378                           double-lemon-bars-232572                ['']  \n",
       "12818  pear-and-frangipane-crostata-with-raspberry-vi...                ['']  \n",
       "12829                  hazelnut-shortbread-sticks-231311                ['']  "
      ]
     },
     "execution_count": 7,
     "metadata": {},
     "output_type": "execute_result"
    }
   ],
   "source": [
    "recipes_df[recipes_df[\"Title\"].isna()]"
   ]
  },
  {
   "cell_type": "code",
   "execution_count": 8,
   "id": "c54aaf64",
   "metadata": {},
   "outputs": [
    {
     "data": {
      "text/html": [
       "<div>\n",
       "<style scoped>\n",
       "    .dataframe tbody tr th:only-of-type {\n",
       "        vertical-align: middle;\n",
       "    }\n",
       "\n",
       "    .dataframe tbody tr th {\n",
       "        vertical-align: top;\n",
       "    }\n",
       "\n",
       "    .dataframe thead th {\n",
       "        text-align: right;\n",
       "    }\n",
       "</style>\n",
       "<table border=\"1\" class=\"dataframe\">\n",
       "  <thead>\n",
       "    <tr style=\"text-align: right;\">\n",
       "      <th></th>\n",
       "      <th>Unnamed: 0</th>\n",
       "      <th>Title</th>\n",
       "      <th>Ingredients</th>\n",
       "      <th>Instructions</th>\n",
       "      <th>Image_Name</th>\n",
       "      <th>Cleaned_Ingredients</th>\n",
       "    </tr>\n",
       "  </thead>\n",
       "  <tbody>\n",
       "    <tr>\n",
       "      <th>4293</th>\n",
       "      <td>4293</td>\n",
       "      <td>Broccolini-Cheddar Gratin with Rye Breadcrumbs</td>\n",
       "      <td>['1/4 loaf seeded rye bread, torn into 1\" piec...</td>\n",
       "      <td>NaN</td>\n",
       "      <td>broccolini-cheddar-gratin-with-rye-breadcrumbs...</td>\n",
       "      <td>['1/4 loaf seeded rye bread, torn into 1\" piec...</td>\n",
       "    </tr>\n",
       "    <tr>\n",
       "      <th>9636</th>\n",
       "      <td>9636</td>\n",
       "      <td>Smoked Salmon with Egg Salad and Green beans</td>\n",
       "      <td>[]</td>\n",
       "      <td>NaN</td>\n",
       "      <td>smoked-salmon-with-egg-salad-and-green-beans-3...</td>\n",
       "      <td>['']</td>\n",
       "    </tr>\n",
       "    <tr>\n",
       "      <th>10356</th>\n",
       "      <td>10356</td>\n",
       "      <td>Royal Icing</td>\n",
       "      <td>['Using electric mixer, beat 3 1/4 cups powder...</td>\n",
       "      <td>NaN</td>\n",
       "      <td>royal-icing-240751</td>\n",
       "      <td>['Using electric mixer', 'beat 3 1/4 cups powd...</td>\n",
       "    </tr>\n",
       "    <tr>\n",
       "      <th>11221</th>\n",
       "      <td>11221</td>\n",
       "      <td>NaN</td>\n",
       "      <td>[]</td>\n",
       "      <td>NaN</td>\n",
       "      <td>roasted-game-hens-with-caramelized-root-vegeta...</td>\n",
       "      <td>['']</td>\n",
       "    </tr>\n",
       "    <tr>\n",
       "      <th>12373</th>\n",
       "      <td>12373</td>\n",
       "      <td>NaN</td>\n",
       "      <td>[]</td>\n",
       "      <td>NaN</td>\n",
       "      <td>chicken-soup-with-rice-232605</td>\n",
       "      <td>['']</td>\n",
       "    </tr>\n",
       "    <tr>\n",
       "      <th>12378</th>\n",
       "      <td>12378</td>\n",
       "      <td>NaN</td>\n",
       "      <td>[]</td>\n",
       "      <td>NaN</td>\n",
       "      <td>double-lemon-bars-232572</td>\n",
       "      <td>['']</td>\n",
       "    </tr>\n",
       "    <tr>\n",
       "      <th>12818</th>\n",
       "      <td>12818</td>\n",
       "      <td>NaN</td>\n",
       "      <td>[]</td>\n",
       "      <td>NaN</td>\n",
       "      <td>pear-and-frangipane-crostata-with-raspberry-vi...</td>\n",
       "      <td>['']</td>\n",
       "    </tr>\n",
       "    <tr>\n",
       "      <th>12829</th>\n",
       "      <td>12829</td>\n",
       "      <td>NaN</td>\n",
       "      <td>[]</td>\n",
       "      <td>NaN</td>\n",
       "      <td>hazelnut-shortbread-sticks-231311</td>\n",
       "      <td>['']</td>\n",
       "    </tr>\n",
       "  </tbody>\n",
       "</table>\n",
       "</div>"
      ],
      "text/plain": [
       "       Unnamed: 0                                           Title  \\\n",
       "4293         4293  Broccolini-Cheddar Gratin with Rye Breadcrumbs   \n",
       "9636         9636    Smoked Salmon with Egg Salad and Green beans   \n",
       "10356       10356                                     Royal Icing   \n",
       "11221       11221                                             NaN   \n",
       "12373       12373                                             NaN   \n",
       "12378       12378                                             NaN   \n",
       "12818       12818                                             NaN   \n",
       "12829       12829                                             NaN   \n",
       "\n",
       "                                             Ingredients Instructions  \\\n",
       "4293   ['1/4 loaf seeded rye bread, torn into 1\" piec...          NaN   \n",
       "9636                                                  []          NaN   \n",
       "10356  ['Using electric mixer, beat 3 1/4 cups powder...          NaN   \n",
       "11221                                                 []          NaN   \n",
       "12373                                                 []          NaN   \n",
       "12378                                                 []          NaN   \n",
       "12818                                                 []          NaN   \n",
       "12829                                                 []          NaN   \n",
       "\n",
       "                                              Image_Name  \\\n",
       "4293   broccolini-cheddar-gratin-with-rye-breadcrumbs...   \n",
       "9636   smoked-salmon-with-egg-salad-and-green-beans-3...   \n",
       "10356                                 royal-icing-240751   \n",
       "11221  roasted-game-hens-with-caramelized-root-vegeta...   \n",
       "12373                      chicken-soup-with-rice-232605   \n",
       "12378                           double-lemon-bars-232572   \n",
       "12818  pear-and-frangipane-crostata-with-raspberry-vi...   \n",
       "12829                  hazelnut-shortbread-sticks-231311   \n",
       "\n",
       "                                     Cleaned_Ingredients  \n",
       "4293   ['1/4 loaf seeded rye bread, torn into 1\" piec...  \n",
       "9636                                                ['']  \n",
       "10356  ['Using electric mixer', 'beat 3 1/4 cups powd...  \n",
       "11221                                               ['']  \n",
       "12373                                               ['']  \n",
       "12378                                               ['']  \n",
       "12818                                               ['']  \n",
       "12829                                               ['']  "
      ]
     },
     "execution_count": 8,
     "metadata": {},
     "output_type": "execute_result"
    }
   ],
   "source": [
    "recipes_df[recipes_df[\"Instructions\"].isna()]"
   ]
  },
  {
   "cell_type": "markdown",
   "id": "5685095d",
   "metadata": {},
   "source": [
    "## Cleaning the data"
   ]
  },
  {
   "cell_type": "code",
   "execution_count": 9,
   "id": "dfadd05c",
   "metadata": {},
   "outputs": [
    {
     "data": {
      "text/plain": [
       "<bound method DataFrame.dropna of                                                    Title  \\\n",
       "0      Miso-Butter Roast Chicken With Acorn Squash Pa...   \n",
       "1                        Crispy Salt and Pepper Potatoes   \n",
       "2                            Thanksgiving Mac and Cheese   \n",
       "3                     Italian Sausage and Bread Stuffing   \n",
       "4                                           Newton's Law   \n",
       "...                                                  ...   \n",
       "13496                               Brownie Pudding Cake   \n",
       "13497  Israeli Couscous with Roasted Butternut Squash...   \n",
       "13498  Rice with Soy-Glazed Bonito Flakes and Sesame ...   \n",
       "13499                                        Spanakopita   \n",
       "13500  Mexican Poblano, Spinach, and Black Bean \"Lasa...   \n",
       "\n",
       "                                             Ingredients  \\\n",
       "0      ['1 (3½–4-lb.) whole chicken', '2¾ tsp. kosher...   \n",
       "1      ['2 large egg whites', '1 pound new potatoes (...   \n",
       "2      ['1 cup evaporated milk', '1 cup whole milk', ...   \n",
       "3      ['1 (¾- to 1-pound) round Italian loaf, cut in...   \n",
       "4      ['1 teaspoon dark brown sugar', '1 teaspoon ho...   \n",
       "...                                                  ...   \n",
       "13496  ['1 cup all-purpose flour', '2/3 cup unsweeten...   \n",
       "13497  ['1 preserved lemon', '1 1/2 pound butternut s...   \n",
       "13498  ['Leftover katsuo bushi (dried bonito flakes) ...   \n",
       "13499  ['1 stick (1/2 cup) plus 1 tablespoon unsalted...   \n",
       "13500  ['12 medium to large fresh poblano chiles (2 1...   \n",
       "\n",
       "                                            Instructions  \\\n",
       "0      Pat chicken dry with paper towels, season all ...   \n",
       "1      Preheat oven to 400°F and line a rimmed baking...   \n",
       "2      Place a rack in middle of oven; preheat to 400...   \n",
       "3      Preheat oven to 350°F with rack in middle. Gen...   \n",
       "4      Stir together brown sugar and hot water in a c...   \n",
       "...                                                  ...   \n",
       "13496  Preheat the oven to 350°F. Into a bowl sift to...   \n",
       "13497  Preheat oven to 475°F.\\nHalve lemons and scoop...   \n",
       "13498  If using katsuo bushi flakes from package, moi...   \n",
       "13499  Melt 1 tablespoon butter in a 12-inch heavy sk...   \n",
       "13500  Lay 4 chiles on their sides on racks of gas bu...   \n",
       "\n",
       "                                              Image_Name  \\\n",
       "0      miso-butter-roast-chicken-acorn-squash-panzanella   \n",
       "1             crispy-salt-and-pepper-potatoes-dan-kluger   \n",
       "2             thanksgiving-mac-and-cheese-erick-williams   \n",
       "3              italian-sausage-and-bread-stuffing-240559   \n",
       "4                     newtons-law-apple-bourbon-cocktail   \n",
       "...                                                  ...   \n",
       "13496                         brownie-pudding-cake-14408   \n",
       "13497  israeli-couscous-with-roasted-butternut-squash...   \n",
       "13498  rice-with-soy-glazed-bonito-flakes-and-sesame-...   \n",
       "13499                                 spanakopita-107344   \n",
       "13500  mexican-poblano-spinach-and-black-bean-lasagne...   \n",
       "\n",
       "                                     Cleaned_Ingredients  \n",
       "0      ['1 (3½–4-lb.) whole chicken', '2¾ tsp. kosher...  \n",
       "1      ['2 large egg whites', '1 pound new potatoes (...  \n",
       "2      ['1 cup evaporated milk', '1 cup whole milk', ...  \n",
       "3      ['1 (¾- to 1-pound) round Italian loaf, cut in...  \n",
       "4      ['1 teaspoon dark brown sugar', '1 teaspoon ho...  \n",
       "...                                                  ...  \n",
       "13496  ['1 cup all-purpose flour', '2/3 cup unsweeten...  \n",
       "13497  ['1 preserved lemon', '1 1/2 pound butternut s...  \n",
       "13498  ['Leftover katsuo bushi (dried bonito flakes) ...  \n",
       "13499  ['1 stick (1/2 cup) plus 1 tablespoon unsalted...  \n",
       "13500  ['12 medium to large fresh poblano chiles (2 1...  \n",
       "\n",
       "[13501 rows x 5 columns]>"
      ]
     },
     "execution_count": 9,
     "metadata": {},
     "output_type": "execute_result"
    }
   ],
   "source": [
    "recipes_df = recipes_df.drop(columns ='Unnamed: 0')\n",
    "recipes_df.dropna"
   ]
  },
  {
   "cell_type": "code",
   "execution_count": 10,
   "id": "fc6dc100",
   "metadata": {},
   "outputs": [],
   "source": [
    "# Calculating the length of 'Cleaned_Ingredients' columns to identify any empty ingredients and then dropping them\n",
    "\n",
    "recipes_df['clean_len'] = [len(i) for i in recipes_df[\"Cleaned_Ingredients\"]]\n",
    "recipes_df.drop(recipes_df[recipes_df['clean_len']<5].index, axis = 0, inplace= True)"
   ]
  },
  {
   "cell_type": "code",
   "execution_count": 11,
   "id": "cd6b4dbc",
   "metadata": {},
   "outputs": [],
   "source": [
    "# Function to get rid of punctuation, numbers and weird formatting\n",
    "\n",
    "def clean_list(ingredient_list):\n",
    "    '''function to clean ingredints list'''\n",
    "    punctuation = string.punctuation\n",
    "    \n",
    "    # break string into list of individual items\n",
    "    ingredient_list = ingredient_list.split(\"', \\'\")\n",
    "\n",
    "    # iterate through each item in list to remove punctuation and non alpha characters\n",
    "    for i in range(len(ingredient_list)):\n",
    "        for punc in punctuation:\n",
    "            ingredient_list[i] = ingredient_list[i].replace(punc, '')\n",
    "        ingredient_list[i] = ''.join(char for char in ingredient_list[i] if char.isalpha() or char == ' ')\n",
    "        ingredient_list[i] = ingredient_list[i].strip()\n",
    "        ingredient_list[i] = ingredient_list[i].replace('  ', ' ')\n",
    "        \n",
    "    return ' '. join(ingredient_list)\n",
    "\n",
    "recipes_df['Clean2'] = recipes_df['Cleaned_Ingredients'].map(clean_list)"
   ]
  },
  {
   "cell_type": "markdown",
   "id": "cfa23b7a",
   "metadata": {},
   "source": [
    "## Bag of Word and Stop Words"
   ]
  },
  {
   "cell_type": "code",
   "execution_count": 12,
   "id": "49058728",
   "metadata": {},
   "outputs": [],
   "source": [
    "# Setting bag of words scope - first 500\n",
    "\n",
    "bag_of_ingredients = recipes_df[\"Clean2\"][:2000]"
   ]
  },
  {
   "cell_type": "code",
   "execution_count": 13,
   "id": "309b1a72",
   "metadata": {},
   "outputs": [],
   "source": [
    "# Removing regular stopwords\n",
    "\n",
    "stop_words = set(stopwords.words('english')) \n",
    "\n",
    "for i in range(0, len(bag_of_ingredients)):\n",
    "    word_tokens = word_tokenize(bag_of_ingredients[i])\n",
    "    word_tokens = [w.lower() for w in word_tokens]\n",
    "    full_stop_words = stop_words | set(custom_stopwords)\n",
    "    bag_of_ingredients[i] = [w for w in word_tokens if not w in full_stop_words]\n",
    "\n",
    "# Converting list to string\n",
    "bag_of_ingredients = bag_of_ingredients.map(' '.join)"
   ]
  },
  {
   "cell_type": "code",
   "execution_count": 14,
   "id": "ec09ebea",
   "metadata": {},
   "outputs": [],
   "source": [
    "#Transform BoI in a list of list of strings\n",
    "for i in range(len(bag_of_ingredients)):\n",
    "    bag_of_ingredients[i] = bag_of_ingredients[i].split(\" \")"
   ]
  },
  {
   "cell_type": "code",
   "execution_count": 15,
   "id": "4afdcbd2",
   "metadata": {},
   "outputs": [],
   "source": [
    "#Test for fastText model:\n",
    "#all_Sentences = []\n",
    "#for sentence in bag_of_ingredients:\n",
    "#    all_Sentences.extend(sentence)"
   ]
  },
  {
   "cell_type": "code",
   "execution_count": 16,
   "id": "eb1299f4",
   "metadata": {},
   "outputs": [],
   "source": [
    "#Test for fastText model:\n",
    "#training fastText model on recipe\n",
    "#from gensim.models import FastText\n",
    "#model_fasttext = FastText(window=5, min_count=5, workers=4,sg=1)\n",
    "#model_fasttext.build_vocab(corpus_iterable=all_Sentences)\n",
    "#model_fasttext.train(corpus_iterable=all_Sentences, total_examples = model_fasttext.corpus_count, epochs=5)\n",
    "#model_fasttext.wv.most_similar(positive=['chicken'], topn=10,restrict_vocab=50000)"
   ]
  },
  {
   "cell_type": "code",
   "execution_count": 75,
   "id": "af81ebf2",
   "metadata": {},
   "outputs": [],
   "source": [
    "#Implement Word2Vec model\n",
    "from gensim.models import Word2Vec\n",
    "\n",
    "# This line trains an entire embedding for the words in your train set\n",
    "def word2vec_(bag_of_ingredients,vector_size=100,min_count=3):\n",
    "    return Word2Vec(sentences=bag_of_ingredients,vector_size=vector_size, min_count=min_count)"
   ]
  },
  {
   "cell_type": "code",
   "execution_count": 76,
   "id": "440b5b27",
   "metadata": {},
   "outputs": [
    {
     "data": {
      "text/plain": [
       "0       [chicken, acorn, squash, sage, rosemary, butte...\n",
       "1       [egg, whites, new, potatoes, ground, black, pe...\n",
       "2       [evaporated, milk, milk, garlic, powder, onion...\n",
       "3       [round, italian, loaf, olive, oil, sweet, ital...\n",
       "4       [dark, brown, bourbon, fresh, lemon, juice, ap...\n",
       "                              ...                        \n",
       "1995    [olive, oil, white, onion, garlic, cloves, cor...\n",
       "1996    [dried, chiles, árbol, seeds, ribs, tomatillos...\n",
       "1997    [soy, sauce, sesame, oil, red, pepper, garlic,...\n",
       "1998    [pork, shoulder, boston, butt, white, onion, r...\n",
       "1999    [allpurpose, flour, stick, butter, granulated,...\n",
       "Name: Clean2, Length: 2000, dtype: object"
      ]
     },
     "execution_count": 76,
     "metadata": {},
     "output_type": "execute_result"
    }
   ],
   "source": [
    "bag_of_ingredients"
   ]
  },
  {
   "cell_type": "code",
   "execution_count": 77,
   "id": "81f5b26b",
   "metadata": {},
   "outputs": [
    {
     "data": {
      "text/plain": [
       "<gensim.models.word2vec.Word2Vec at 0x7fb4e3e14880>"
      ]
     },
     "execution_count": 77,
     "metadata": {},
     "output_type": "execute_result"
    }
   ],
   "source": [
    "word2vec_(bag_of_ingredients)"
   ]
  },
  {
   "cell_type": "code",
   "execution_count": 78,
   "id": "7590dcd5",
   "metadata": {},
   "outputs": [],
   "source": [
    "model = word2vec_(bag_of_ingredients)"
   ]
  },
  {
   "cell_type": "code",
   "execution_count": 79,
   "id": "b20c0cc7",
   "metadata": {},
   "outputs": [],
   "source": [
    "list_of_words = model.wv.__dict__[\"index_to_key\"]"
   ]
  },
  {
   "cell_type": "code",
   "execution_count": 82,
   "id": "441d2d6d",
   "metadata": {},
   "outputs": [
    {
     "data": {
      "text/plain": [
       "[('tomato', 0.9991054534912109),\n",
       " ('bay', 0.9990581274032593),\n",
       " ('onions', 0.9989761114120483),\n",
       " ('grill', 0.9989627003669739),\n",
       " ('aleppostyle', 0.9989341497421265),\n",
       " ('shallots', 0.9989337921142578),\n",
       " ('celery', 0.9988922476768494),\n",
       " ('shallot', 0.9988492727279663),\n",
       " ('peppers', 0.9987933039665222),\n",
       " ('broth', 0.9987426400184631)]"
      ]
     },
     "execution_count": 82,
     "metadata": {},
     "output_type": "execute_result"
    }
   ],
   "source": [
    "#Test similarity of a given word\n",
    "model.wv.most_similar('chicken', topn=10)"
   ]
  },
  {
   "cell_type": "code",
   "execution_count": 83,
   "id": "5a7f1a66",
   "metadata": {},
   "outputs": [],
   "source": [
    "#Define a Recipe Embedding function: Check if is the best method posible!!"
   ]
  },
  {
   "cell_type": "code",
   "execution_count": 84,
   "id": "9ab912d2",
   "metadata": {},
   "outputs": [],
   "source": [
    "word2vec_keys = model.wv.__dict__[\"index_to_key\"]"
   ]
  },
  {
   "cell_type": "code",
   "execution_count": 85,
   "id": "881a90e0",
   "metadata": {},
   "outputs": [
    {
     "data": {
      "text/plain": [
       "array([ 3.66160125e-02,  4.45187449e-01,  2.22856730e-01, -5.71670644e-02,\n",
       "        1.24682136e-01, -8.34624708e-01,  3.42595726e-01,  7.83286929e-01,\n",
       "       -2.29389057e-01, -2.00646356e-01, -1.21000312e-01, -6.09387219e-01,\n",
       "        3.62318195e-02,  2.15750486e-01,  2.21246511e-01, -2.58229226e-01,\n",
       "        2.09623337e-01, -4.49134976e-01, -1.09358326e-01, -9.23055351e-01,\n",
       "        3.48137885e-01,  3.45579684e-01,  1.46345258e-01, -1.30971566e-01,\n",
       "       -1.98330134e-01, -9.31857228e-02, -2.75516301e-01, -4.24896896e-01,\n",
       "       -2.89729357e-01, -1.67123321e-02,  4.27817047e-01,  1.12969369e-01,\n",
       "        1.98928565e-01, -5.75489998e-01, -4.25539434e-01,  6.51699722e-01,\n",
       "        2.05163732e-01, -3.96998674e-01, -9.97512639e-02, -8.55751872e-01,\n",
       "        2.31737923e-02, -3.95603865e-01, -6.05092980e-02,  6.43986836e-02,\n",
       "        5.51583767e-01, -1.23580731e-02, -5.27556956e-01, -2.43219465e-01,\n",
       "        4.38484512e-02,  6.97516724e-02,  3.13758701e-01, -2.94866920e-01,\n",
       "        1.71135083e-01, -1.35481626e-01, -3.62089425e-01,  1.78345323e-01,\n",
       "        3.52194011e-01, -1.68994237e-02, -4.17757571e-01,  1.46407977e-01,\n",
       "       -2.53991932e-02, -2.77833566e-02, -5.84498309e-02, -3.92755270e-02,\n",
       "       -4.28508997e-01,  6.45917416e-01,  1.14781499e-01,  4.00292307e-01,\n",
       "       -4.62684005e-01,  4.33385372e-01, -5.22520065e-01,  3.77302974e-01,\n",
       "        4.09343749e-01, -4.64644358e-02,  5.51231384e-01,  2.52683640e-01,\n",
       "        3.76442522e-02, -6.89425841e-02, -2.41280153e-01,  1.02831766e-01,\n",
       "       -3.45545679e-01,  1.10920884e-01, -4.99094307e-01,  5.21090090e-01,\n",
       "       -2.48325408e-01, -4.72634099e-04,  1.92915469e-01,  5.81393123e-01,\n",
       "        6.09869540e-01,  8.44110250e-02,  5.39288759e-01,  3.52721184e-01,\n",
       "        8.07558969e-02,  1.66507468e-01,  7.31955171e-01,  2.64497876e-01,\n",
       "       -2.07566544e-02, -2.63964742e-01,  1.41777024e-01, -3.01205844e-01],\n",
       "      dtype=float32)"
      ]
     },
     "execution_count": 85,
     "metadata": {},
     "output_type": "execute_result"
    }
   ],
   "source": [
    "model.wv[\"chicken\"]"
   ]
  },
  {
   "cell_type": "code",
   "execution_count": 51,
   "id": "f062f531",
   "metadata": {},
   "outputs": [],
   "source": [
    "def getRecipeEmbedding(sentence):\n",
    "    countFound = 0\n",
    "    embeddingList = []\n",
    "    for wordx in sentence:\n",
    "        if wordx in word2vec_keys:\n",
    "            vector1 = model.wv[wordx]\n",
    "            embeddingList.append(vector1)\n",
    "            countFound+=1\n",
    "    return np.true_divide(sum(embeddingList), countFound)"
   ]
  },
  {
   "cell_type": "code",
   "execution_count": 52,
   "id": "a60bcc23",
   "metadata": {},
   "outputs": [
    {
     "data": {
      "text/plain": [
       "1.1889913603663445"
      ]
     },
     "execution_count": 52,
     "metadata": {},
     "output_type": "execute_result"
    }
   ],
   "source": [
    "sum(getRecipeEmbedding(bag_of_ingredients[899]))"
   ]
  },
  {
   "cell_type": "code",
   "execution_count": 53,
   "id": "d39decef",
   "metadata": {},
   "outputs": [],
   "source": [
    "#Define a list of the embedded recipes:\n",
    "def recipes_list(bag_of_ingredients):\n",
    "    recipes_embed_list = []\n",
    "    for i in bag_of_ingredients:\n",
    "        if getRecipeEmbedding(i).size == 1:\n",
    "            recipes_embed_list.append(np.zeros(50,))\n",
    "        else:\n",
    "            recipes_embed_list.append(getRecipeEmbedding(i))\n",
    "    return recipes_embed_list"
   ]
  },
  {
   "cell_type": "code",
   "execution_count": 54,
   "id": "0a2d248c",
   "metadata": {},
   "outputs": [],
   "source": [
    "#recipes_embed_list = [getRecipeEmbedding(i) for i in bag_of_ingredients]"
   ]
  },
  {
   "cell_type": "code",
   "execution_count": 55,
   "id": "d2374113",
   "metadata": {},
   "outputs": [
    {
     "name": "stderr",
     "output_type": "stream",
     "text": [
      "/tmp/ipykernel_28173/4105505414.py:9: RuntimeWarning: invalid value encountered in true_divide\n",
      "  return np.true_divide(sum(embeddingList), countFound)\n"
     ]
    }
   ],
   "source": [
    "recipes_embed_list = recipes_list(bag_of_ingredients)"
   ]
  },
  {
   "cell_type": "code",
   "execution_count": 87,
   "id": "499852e4",
   "metadata": {},
   "outputs": [
    {
     "data": {
      "text/plain": [
       "2000"
      ]
     },
     "execution_count": 87,
     "metadata": {},
     "output_type": "execute_result"
    }
   ],
   "source": [
    "recipes_embed_list"
   ]
  },
  {
   "cell_type": "code",
   "execution_count": 57,
   "id": "597dbdf8",
   "metadata": {},
   "outputs": [
    {
     "data": {
      "text/plain": [
       "[]"
      ]
     },
     "execution_count": 57,
     "metadata": {},
     "output_type": "execute_result"
    }
   ],
   "source": [
    "aux = []\n",
    "for i in range(0,2000):\n",
    "    if sum(recipes_embed_list[i]) is False:\n",
    "        aux.append(i)\n",
    "aux"
   ]
  },
  {
   "cell_type": "code",
   "execution_count": 88,
   "id": "4b6eac55",
   "metadata": {},
   "outputs": [],
   "source": [
    "ingredients = [\"chicken\",\"pasta\",\"onion\"]"
   ]
  },
  {
   "cell_type": "code",
   "execution_count": 89,
   "id": "27a0cf1c",
   "metadata": {},
   "outputs": [],
   "source": [
    "ingredients_embedded = getRecipeEmbedding(ingredients)"
   ]
  },
  {
   "cell_type": "code",
   "execution_count": 90,
   "id": "8ca1b1bd",
   "metadata": {},
   "outputs": [],
   "source": [
    "from numpy import dot\n",
    "from numpy.linalg import norm\n",
    "\n",
    "def similar_recipe(embeddded_ingredients):\n",
    "    cos_sim = []\n",
    "    for i in range(0,len(recipes_embed_list)):\n",
    "        if sum(recipes_embed_list[i]) == 0.0:\n",
    "            cos_sim.append(0)\n",
    "        else:    \n",
    "            cos_sim.append(np.dot(ingredients_embedded,recipes_embed_list[i])/(norm(ingredients_embedded)*norm(recipes_embed_list[i])))\n",
    "    dis_array = np.array(cos_sim)\n",
    "    return dis_array\n",
    "\n"
   ]
  },
  {
   "cell_type": "code",
   "execution_count": 91,
   "id": "56ab51a5",
   "metadata": {},
   "outputs": [],
   "source": [
    "cos_sim = similar_recipe(ingredients_embedded)"
   ]
  },
  {
   "cell_type": "code",
   "execution_count": 92,
   "id": "73c02c44",
   "metadata": {},
   "outputs": [
    {
     "data": {
      "text/plain": [
       "array([898, 720, 571, 942, 464])"
      ]
     },
     "execution_count": 92,
     "metadata": {},
     "output_type": "execute_result"
    }
   ],
   "source": [
    "(cos_sim).argsort()[:50]"
   ]
  },
  {
   "cell_type": "code",
   "execution_count": 97,
   "id": "34a92e0b",
   "metadata": {},
   "outputs": [],
   "source": [
    "def getListofRecipes(cos_sim,n):\n",
    "    n_index = (-cos_sim).argsort()[:n]\n",
    "    titles = []\n",
    "    for i in n_index:\n",
    "        titles.append(recipes_df.iloc[i,0:2])\n",
    "    return titles"
   ]
  },
  {
   "cell_type": "code",
   "execution_count": 106,
   "id": "b1c0671c",
   "metadata": {},
   "outputs": [],
   "source": [
    "new_df = pd.DataFrame(getListofRecipes(similar_recipe(ingredients_embedded),100))"
   ]
  },
  {
   "cell_type": "code",
   "execution_count": 112,
   "id": "f4edf8fc",
   "metadata": {},
   "outputs": [
    {
     "data": {
      "text/html": [
       "<div>\n",
       "<style scoped>\n",
       "    .dataframe tbody tr th:only-of-type {\n",
       "        vertical-align: middle;\n",
       "    }\n",
       "\n",
       "    .dataframe tbody tr th {\n",
       "        vertical-align: top;\n",
       "    }\n",
       "\n",
       "    .dataframe thead th {\n",
       "        text-align: right;\n",
       "    }\n",
       "</style>\n",
       "<table border=\"1\" class=\"dataframe\">\n",
       "  <thead>\n",
       "    <tr style=\"text-align: right;\">\n",
       "      <th></th>\n",
       "      <th>Title</th>\n",
       "      <th>Ingredients</th>\n",
       "    </tr>\n",
       "  </thead>\n",
       "  <tbody>\n",
       "    <tr>\n",
       "      <th>1399</th>\n",
       "      <td>Arroz Caldo (Chicken Rice Porridge)</td>\n",
       "      <td>['200 g (7 oz / 1 cup) white glutinous rice', ...</td>\n",
       "    </tr>\n",
       "    <tr>\n",
       "      <th>515</th>\n",
       "      <td>Turnips with Spicy Meyer Lemon Dressing</td>\n",
       "      <td>['2 cups bonito flakes', '½ cup sugar', '½ cup...</td>\n",
       "    </tr>\n",
       "    <tr>\n",
       "      <th>563</th>\n",
       "      <td>Coconut Milk–Braised Chicken</td>\n",
       "      <td>['1 (13.5-oz.) can unsweetened coconut milk', ...</td>\n",
       "    </tr>\n",
       "    <tr>\n",
       "      <th>1295</th>\n",
       "      <td>Ginger Spritz</td>\n",
       "      <td>['1 thin slice peeled ginger', '2 oz. Lillet',...</td>\n",
       "    </tr>\n",
       "    <tr>\n",
       "      <th>1877</th>\n",
       "      <td>Garlicky Peanut Dressing</td>\n",
       "      <td>['1/4 cup natural creamy peanut butter', '1/4 ...</td>\n",
       "    </tr>\n",
       "    <tr>\n",
       "      <th>...</th>\n",
       "      <td>...</td>\n",
       "      <td>...</td>\n",
       "    </tr>\n",
       "    <tr>\n",
       "      <th>1386</th>\n",
       "      <td>Slow Cooker Corned Beef Brisket with Cabbage, ...</td>\n",
       "      <td>['2 cups apple juice', '2 tablespoons real map...</td>\n",
       "    </tr>\n",
       "    <tr>\n",
       "      <th>1756</th>\n",
       "      <td>Thanksgiving Dinner for One</td>\n",
       "      <td>['1 sweet potato', '1 teaspoon finely grated o...</td>\n",
       "    </tr>\n",
       "    <tr>\n",
       "      <th>740</th>\n",
       "      <td>Skirt Steak with Spicy Coconut Dressing</td>\n",
       "      <td>['1/2 red jalapeno, Fresno or serrano chile, f...</td>\n",
       "    </tr>\n",
       "    <tr>\n",
       "      <th>294</th>\n",
       "      <td>Scallop Rice Bowls With Crunchy Spice Oil</td>\n",
       "      <td>['1 lb. dry sea scallops, side muscles removed...</td>\n",
       "    </tr>\n",
       "    <tr>\n",
       "      <th>562</th>\n",
       "      <td>Creamy Pasta with Crispy Mushrooms</td>\n",
       "      <td>['4 Tbsp. extra-virgin olive oil', '1 lb. mixe...</td>\n",
       "    </tr>\n",
       "  </tbody>\n",
       "</table>\n",
       "<p>100 rows × 2 columns</p>\n",
       "</div>"
      ],
      "text/plain": [
       "                                                  Title  \\\n",
       "1399                Arroz Caldo (Chicken Rice Porridge)   \n",
       "515             Turnips with Spicy Meyer Lemon Dressing   \n",
       "563                        Coconut Milk–Braised Chicken   \n",
       "1295                                      Ginger Spritz   \n",
       "1877                           Garlicky Peanut Dressing   \n",
       "...                                                 ...   \n",
       "1386  Slow Cooker Corned Beef Brisket with Cabbage, ...   \n",
       "1756                        Thanksgiving Dinner for One   \n",
       "740             Skirt Steak with Spicy Coconut Dressing   \n",
       "294           Scallop Rice Bowls With Crunchy Spice Oil   \n",
       "562                  Creamy Pasta with Crispy Mushrooms   \n",
       "\n",
       "                                            Ingredients  \n",
       "1399  ['200 g (7 oz / 1 cup) white glutinous rice', ...  \n",
       "515   ['2 cups bonito flakes', '½ cup sugar', '½ cup...  \n",
       "563   ['1 (13.5-oz.) can unsweetened coconut milk', ...  \n",
       "1295  ['1 thin slice peeled ginger', '2 oz. Lillet',...  \n",
       "1877  ['1/4 cup natural creamy peanut butter', '1/4 ...  \n",
       "...                                                 ...  \n",
       "1386  ['2 cups apple juice', '2 tablespoons real map...  \n",
       "1756  ['1 sweet potato', '1 teaspoon finely grated o...  \n",
       "740   ['1/2 red jalapeno, Fresno or serrano chile, f...  \n",
       "294   ['1 lb. dry sea scallops, side muscles removed...  \n",
       "562   ['4 Tbsp. extra-virgin olive oil', '1 lb. mixe...  \n",
       "\n",
       "[100 rows x 2 columns]"
      ]
     },
     "execution_count": 112,
     "metadata": {},
     "output_type": "execute_result"
    }
   ],
   "source": [
    "new_df"
   ]
  },
  {
   "cell_type": "code",
   "execution_count": 121,
   "id": "4ab6a445",
   "metadata": {},
   "outputs": [],
   "source": [
    "list = [new_df[\"Title\"].value[i] for i in new_df[\"Title\"].values if \"chicken\" in new_df[\"Ingredients\"].values]"
   ]
  },
  {
   "cell_type": "code",
   "execution_count": 122,
   "id": "128de3bc",
   "metadata": {},
   "outputs": [
    {
     "data": {
      "text/plain": [
       "[]"
      ]
     },
     "execution_count": 122,
     "metadata": {},
     "output_type": "execute_result"
    }
   ],
   "source": [
    "list"
   ]
  },
  {
   "cell_type": "code",
   "execution_count": null,
   "id": "8c5d46cb",
   "metadata": {},
   "outputs": [],
   "source": []
  }
 ],
 "metadata": {
  "kernelspec": {
   "display_name": "Python 3 (ipykernel)",
   "language": "python",
   "name": "python3"
  },
  "language_info": {
   "codemirror_mode": {
    "name": "ipython",
    "version": 3
   },
   "file_extension": ".py",
   "mimetype": "text/x-python",
   "name": "python",
   "nbconvert_exporter": "python",
   "pygments_lexer": "ipython3",
   "version": "3.8.12"
  },
  "toc": {
   "base_numbering": 1,
   "nav_menu": {},
   "number_sections": true,
   "sideBar": true,
   "skip_h1_title": false,
   "title_cell": "Table of Contents",
   "title_sidebar": "Contents",
   "toc_cell": false,
   "toc_position": {},
   "toc_section_display": true,
   "toc_window_display": false
  }
 },
 "nbformat": 4,
 "nbformat_minor": 5
}
